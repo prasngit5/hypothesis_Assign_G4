{
  "nbformat": 4,
  "nbformat_minor": 0,
  "metadata": {
    "colab": {
      "name": "Hyp3_Vaccinations_vs_Fatalities",
      "provenance": [],
      "collapsed_sections": [],
      "authorship_tag": "ABX9TyMun2/5B35fPEyDsfiac2pe",
      "include_colab_link": true
    },
    "kernelspec": {
      "name": "python3",
      "display_name": "Python 3"
    },
    "language_info": {
      "name": "python"
    }
  },
  "cells": [
    {
      "cell_type": "markdown",
      "metadata": {
        "id": "view-in-github",
        "colab_type": "text"
      },
      "source": [
        "<a href=\"https://colab.research.google.com/github/prasngit5/hypothesis_Assign_G4/blob/main/Hyp3_Vaccinations_vs_Fatalities.ipynb\" target=\"_parent\"><img src=\"https://colab.research.google.com/assets/colab-badge.svg\" alt=\"Open In Colab\"/></a>"
      ]
    },
    {
      "cell_type": "code",
      "metadata": {
        "id": "tIDA05d3UENI"
      },
      "source": [
        "import pandas as pd\n",
        "import numpy as np\n",
        "import matplotlib.pyplot as plt\n",
        "%matplotlib inline"
      ],
      "execution_count": 1,
      "outputs": []
    },
    {
      "cell_type": "code",
      "metadata": {
        "colab": {
          "base_uri": "https://localhost:8080/",
          "height": 455
        },
        "id": "R7DYQ6_Gv281",
        "outputId": "69980137-af00-4132-a615-2e38e8a25d6b"
      },
      "source": [
        "import requests\n",
        "response = requests.get(\"https://en.wikipedia.org/wiki/List_of_counties_in_Texas\")\n",
        "#cl= ['Smith County','Orange County','Nueces County','Young County','Shelby County','Irion County','Navarro County','Galveston County','Harris County','Parker County']\n",
        "#ncl = ['Smith','Orange','Nueces','Young','Shelby','Irion','Navarro','Galveston','Harris','Parker']\n",
        "d = pd.read_html(response.text)\n",
        "d = d[1]\n",
        "d.columns=['County Name','fips','cs','est','o','e','Population','a','m']\n",
        "d = d[['County Name','Population']]\n",
        "pop = d.set_index('County Name')\n",
        "#ud = df.loc[Urban_counties]\n",
        "#ud['County Name'] = uc1\n",
        "##ud['County'] = uc1\n",
        "##ud = ud.set_index('County')\n",
        "##ud\n",
        "#c_pop = d.loc[cl]\n",
        "#c_pop['Population'][0]\n",
        "#c_pop = ud\n",
        "#c_pop\n",
        "pop"
      ],
      "execution_count": 2,
      "outputs": [
        {
          "output_type": "execute_result",
          "data": {
            "text/html": [
              "<div>\n",
              "<style scoped>\n",
              "    .dataframe tbody tr th:only-of-type {\n",
              "        vertical-align: middle;\n",
              "    }\n",
              "\n",
              "    .dataframe tbody tr th {\n",
              "        vertical-align: top;\n",
              "    }\n",
              "\n",
              "    .dataframe thead th {\n",
              "        text-align: right;\n",
              "    }\n",
              "</style>\n",
              "<table border=\"1\" class=\"dataframe\">\n",
              "  <thead>\n",
              "    <tr style=\"text-align: right;\">\n",
              "      <th></th>\n",
              "      <th>Population</th>\n",
              "    </tr>\n",
              "    <tr>\n",
              "      <th>County Name</th>\n",
              "      <th></th>\n",
              "    </tr>\n",
              "  </thead>\n",
              "  <tbody>\n",
              "    <tr>\n",
              "      <th>Anderson County</th>\n",
              "      <td>57922</td>\n",
              "    </tr>\n",
              "    <tr>\n",
              "      <th>Andrews County</th>\n",
              "      <td>18610</td>\n",
              "    </tr>\n",
              "    <tr>\n",
              "      <th>Angelina County</th>\n",
              "      <td>86395</td>\n",
              "    </tr>\n",
              "    <tr>\n",
              "      <th>Aransas County</th>\n",
              "      <td>23830</td>\n",
              "    </tr>\n",
              "    <tr>\n",
              "      <th>Archer County</th>\n",
              "      <td>8560</td>\n",
              "    </tr>\n",
              "    <tr>\n",
              "      <th>...</th>\n",
              "      <td>...</td>\n",
              "    </tr>\n",
              "    <tr>\n",
              "      <th>Wood County</th>\n",
              "      <td>44843</td>\n",
              "    </tr>\n",
              "    <tr>\n",
              "      <th>Yoakum County</th>\n",
              "      <td>7694</td>\n",
              "    </tr>\n",
              "    <tr>\n",
              "      <th>Young County</th>\n",
              "      <td>17867</td>\n",
              "    </tr>\n",
              "    <tr>\n",
              "      <th>Zapata County</th>\n",
              "      <td>13889</td>\n",
              "    </tr>\n",
              "    <tr>\n",
              "      <th>Zavala County</th>\n",
              "      <td>9670</td>\n",
              "    </tr>\n",
              "  </tbody>\n",
              "</table>\n",
              "<p>254 rows × 1 columns</p>\n",
              "</div>"
            ],
            "text/plain": [
              "                 Population\n",
              "County Name                \n",
              "Anderson County       57922\n",
              "Andrews County        18610\n",
              "Angelina County       86395\n",
              "Aransas County        23830\n",
              "Archer County          8560\n",
              "...                     ...\n",
              "Wood County           44843\n",
              "Yoakum County          7694\n",
              "Young County          17867\n",
              "Zapata County         13889\n",
              "Zavala County          9670\n",
              "\n",
              "[254 rows x 1 columns]"
            ]
          },
          "metadata": {},
          "execution_count": 2
        }
      ]
    },
    {
      "cell_type": "code",
      "metadata": {
        "id": "socZ-njFaMz6"
      },
      "source": [
        "vl = \"https://dshs.texas.gov/immunize/covid19/COVID-19-Vaccine-Data-by-County.xls\"\n",
        "fl = \"https://www.dshs.texas.gov/coronavirus/TexasCOVID19CaseCountData.xlsx\"\n"
      ],
      "execution_count": 3,
      "outputs": []
    },
    {
      "cell_type": "code",
      "metadata": {
        "colab": {
          "base_uri": "https://localhost:8080/"
        },
        "id": "_xQMSoDEa0y9",
        "outputId": "9eb71bab-8f33-4de5-eac2-6c06490267ce"
      },
      "source": [
        "dA = pd.read_excel(vl, sheet_name = 'By County')\n",
        "dA=dA.truncate(before =3,after= 256)  # There are extra rows in the file, just remove, should look for last county, but this is easier\n",
        "#dA.drop(labels=None, axis=0, index=None, columns=['Race/Ethnicity'], inplace=True)\n",
        "dA.keys()\n"
      ],
      "execution_count": 4,
      "outputs": [
        {
          "output_type": "execute_result",
          "data": {
            "text/plain": [
              "Index(['County Name', 'Public Health Region (PHR)', 'Total Doses Allocated',\n",
              "       'Vaccine Doses Administered',\n",
              "       'People Vaccinated with at least One Dose', 'People Fully Vaccinated',\n",
              "       'Population\\n12+', 'Population, 16+', 'Population, 65+',\n",
              "       'Population, Phase 1A Healthcare Workers',\n",
              "       'Population, Phase 1A Long-term Care Residents',\n",
              "       'Population, 16-64\\n Any Medical Condition',\n",
              "       'Population, Education and Child Care Personnel',\n",
              "       'People Vaccinated with an Additional Dose'],\n",
              "      dtype='object')"
            ]
          },
          "metadata": {},
          "execution_count": 4
        }
      ]
    },
    {
      "cell_type": "code",
      "metadata": {
        "id": "N9bN4npUcTyN"
      },
      "source": [
        "dA = dA.set_index('County Name')\n"
      ],
      "execution_count": 5,
      "outputs": []
    },
    {
      "cell_type": "code",
      "metadata": {
        "colab": {
          "base_uri": "https://localhost:8080/",
          "height": 455
        },
        "id": "xv2JFukIdhZ-",
        "outputId": "00080413-620e-4ca0-828d-114ec3b0b507"
      },
      "source": [
        "dA.drop(labels=None, axis=0, index=None, columns=['Public Health Region (PHR)', 'Total Doses Allocated',\n",
        "       'Vaccine Doses Administered',\n",
        "       'People Vaccinated with at least One Dose',\n",
        "       'Population\\n12+', 'Population, 16+', 'Population, 65+',\n",
        "       'Population, Phase 1A Healthcare Workers',\n",
        "       'Population, Phase 1A Long-term Care Residents',\n",
        "       'Population, 16-64\\n Any Medical Condition',\n",
        "       'Population, Education and Child Care Personnel',\n",
        "       'People Vaccinated with an Additional Dose'], inplace=True)\n",
        "\n",
        "dA"
      ],
      "execution_count": 6,
      "outputs": [
        {
          "output_type": "execute_result",
          "data": {
            "text/html": [
              "<div>\n",
              "<style scoped>\n",
              "    .dataframe tbody tr th:only-of-type {\n",
              "        vertical-align: middle;\n",
              "    }\n",
              "\n",
              "    .dataframe tbody tr th {\n",
              "        vertical-align: top;\n",
              "    }\n",
              "\n",
              "    .dataframe thead th {\n",
              "        text-align: right;\n",
              "    }\n",
              "</style>\n",
              "<table border=\"1\" class=\"dataframe\">\n",
              "  <thead>\n",
              "    <tr style=\"text-align: right;\">\n",
              "      <th></th>\n",
              "      <th>People Fully Vaccinated</th>\n",
              "    </tr>\n",
              "    <tr>\n",
              "      <th>County Name</th>\n",
              "      <th></th>\n",
              "    </tr>\n",
              "  </thead>\n",
              "  <tbody>\n",
              "    <tr>\n",
              "      <th>Anderson</th>\n",
              "      <td>20579</td>\n",
              "    </tr>\n",
              "    <tr>\n",
              "      <th>Andrews</th>\n",
              "      <td>7094</td>\n",
              "    </tr>\n",
              "    <tr>\n",
              "      <th>Angelina</th>\n",
              "      <td>34074</td>\n",
              "    </tr>\n",
              "    <tr>\n",
              "      <th>Aransas</th>\n",
              "      <td>12791</td>\n",
              "    </tr>\n",
              "    <tr>\n",
              "      <th>Archer</th>\n",
              "      <td>3654</td>\n",
              "    </tr>\n",
              "    <tr>\n",
              "      <th>...</th>\n",
              "      <td>...</td>\n",
              "    </tr>\n",
              "    <tr>\n",
              "      <th>Wood</th>\n",
              "      <td>17413</td>\n",
              "    </tr>\n",
              "    <tr>\n",
              "      <th>Yoakum</th>\n",
              "      <td>3048</td>\n",
              "    </tr>\n",
              "    <tr>\n",
              "      <th>Young</th>\n",
              "      <td>6497</td>\n",
              "    </tr>\n",
              "    <tr>\n",
              "      <th>Zapata</th>\n",
              "      <td>7722</td>\n",
              "    </tr>\n",
              "    <tr>\n",
              "      <th>Zavala</th>\n",
              "      <td>5343</td>\n",
              "    </tr>\n",
              "  </tbody>\n",
              "</table>\n",
              "<p>254 rows × 1 columns</p>\n",
              "</div>"
            ],
            "text/plain": [
              "            People Fully Vaccinated\n",
              "County Name                        \n",
              "Anderson                      20579\n",
              "Andrews                        7094\n",
              "Angelina                      34074\n",
              "Aransas                       12791\n",
              "Archer                         3654\n",
              "...                             ...\n",
              "Wood                          17413\n",
              "Yoakum                         3048\n",
              "Young                          6497\n",
              "Zapata                         7722\n",
              "Zavala                         5343\n",
              "\n",
              "[254 rows x 1 columns]"
            ]
          },
          "metadata": {},
          "execution_count": 6
        }
      ]
    },
    {
      "cell_type": "code",
      "metadata": {
        "colab": {
          "base_uri": "https://localhost:8080/",
          "height": 423
        },
        "id": "7gHX_gFyd9Qk",
        "outputId": "c0929065-5951-480f-8ebc-dd6938c508f1"
      },
      "source": [
        "#url1 = \"https://www.dshs.texas.gov/coronavirus/TexasCOVID19CaseCountData.xlsx\"\n",
        "dF = pd.read_excel(fl, sheet_name = 'Case and Fatalities',skiprows=1)\n",
        "dF = dF.truncate(before=0,after=253)  # There are extra rows in the file, just remove, should look for last county, but this is easier\n",
        "dF = dF.rename(columns={'County': 'County Name'})\n",
        "dF"
      ],
      "execution_count": 7,
      "outputs": [
        {
          "output_type": "execute_result",
          "data": {
            "text/html": [
              "<div>\n",
              "<style scoped>\n",
              "    .dataframe tbody tr th:only-of-type {\n",
              "        vertical-align: middle;\n",
              "    }\n",
              "\n",
              "    .dataframe tbody tr th {\n",
              "        vertical-align: top;\n",
              "    }\n",
              "\n",
              "    .dataframe thead th {\n",
              "        text-align: right;\n",
              "    }\n",
              "</style>\n",
              "<table border=\"1\" class=\"dataframe\">\n",
              "  <thead>\n",
              "    <tr style=\"text-align: right;\">\n",
              "      <th></th>\n",
              "      <th>County Name</th>\n",
              "      <th>Confirmed Cases</th>\n",
              "      <th>Probable Cases</th>\n",
              "      <th>Fatalities</th>\n",
              "    </tr>\n",
              "  </thead>\n",
              "  <tbody>\n",
              "    <tr>\n",
              "      <th>0</th>\n",
              "      <td>Anderson</td>\n",
              "      <td>5005.0</td>\n",
              "      <td>2841.0</td>\n",
              "      <td>184</td>\n",
              "    </tr>\n",
              "    <tr>\n",
              "      <th>1</th>\n",
              "      <td>Andrews</td>\n",
              "      <td>2688.0</td>\n",
              "      <td>0.0</td>\n",
              "      <td>52</td>\n",
              "    </tr>\n",
              "    <tr>\n",
              "      <th>2</th>\n",
              "      <td>Angelina</td>\n",
              "      <td>6627.0</td>\n",
              "      <td>6805.0</td>\n",
              "      <td>371</td>\n",
              "    </tr>\n",
              "    <tr>\n",
              "      <th>3</th>\n",
              "      <td>Aransas</td>\n",
              "      <td>1955.0</td>\n",
              "      <td>580.0</td>\n",
              "      <td>59</td>\n",
              "    </tr>\n",
              "    <tr>\n",
              "      <th>4</th>\n",
              "      <td>Archer</td>\n",
              "      <td>968.0</td>\n",
              "      <td>143.0</td>\n",
              "      <td>15</td>\n",
              "    </tr>\n",
              "    <tr>\n",
              "      <th>...</th>\n",
              "      <td>...</td>\n",
              "      <td>...</td>\n",
              "      <td>...</td>\n",
              "      <td>...</td>\n",
              "    </tr>\n",
              "    <tr>\n",
              "      <th>249</th>\n",
              "      <td>Wood</td>\n",
              "      <td>3415.0</td>\n",
              "      <td>2842.0</td>\n",
              "      <td>198</td>\n",
              "    </tr>\n",
              "    <tr>\n",
              "      <th>250</th>\n",
              "      <td>Yoakum</td>\n",
              "      <td>1157.0</td>\n",
              "      <td>0.0</td>\n",
              "      <td>30</td>\n",
              "    </tr>\n",
              "    <tr>\n",
              "      <th>251</th>\n",
              "      <td>Young</td>\n",
              "      <td>2378.0</td>\n",
              "      <td>323.0</td>\n",
              "      <td>60</td>\n",
              "    </tr>\n",
              "    <tr>\n",
              "      <th>252</th>\n",
              "      <td>Zapata</td>\n",
              "      <td>1668.0</td>\n",
              "      <td>505.0</td>\n",
              "      <td>43</td>\n",
              "    </tr>\n",
              "    <tr>\n",
              "      <th>253</th>\n",
              "      <td>Zavala</td>\n",
              "      <td>2111.0</td>\n",
              "      <td>354.0</td>\n",
              "      <td>53</td>\n",
              "    </tr>\n",
              "  </tbody>\n",
              "</table>\n",
              "<p>254 rows × 4 columns</p>\n",
              "</div>"
            ],
            "text/plain": [
              "    County Name  Confirmed Cases  Probable Cases  Fatalities\n",
              "0      Anderson           5005.0          2841.0         184\n",
              "1       Andrews           2688.0             0.0          52\n",
              "2      Angelina           6627.0          6805.0         371\n",
              "3       Aransas           1955.0           580.0          59\n",
              "4        Archer            968.0           143.0          15\n",
              "..          ...              ...             ...         ...\n",
              "249        Wood           3415.0          2842.0         198\n",
              "250      Yoakum           1157.0             0.0          30\n",
              "251       Young           2378.0           323.0          60\n",
              "252      Zapata           1668.0           505.0          43\n",
              "253      Zavala           2111.0           354.0          53\n",
              "\n",
              "[254 rows x 4 columns]"
            ]
          },
          "metadata": {},
          "execution_count": 7
        }
      ]
    },
    {
      "cell_type": "code",
      "metadata": {
        "colab": {
          "base_uri": "https://localhost:8080/",
          "height": 423
        },
        "id": "P4kWZAmB_vDT",
        "outputId": "db207e4d-59a4-496d-be0b-5d9a52177705"
      },
      "source": [
        "\n",
        "#F = dF[\"County Name\"]\n",
        "#print(F)\n",
        "pop[\"County Name\"] =  dF[\"County Name\"].values.tolist()\n",
        "pop.reset_index(drop=True, inplace=True)\n",
        "pop.set_index('County Name')\n",
        "#pop.keys()\n",
        "pop\n"
      ],
      "execution_count": 8,
      "outputs": [
        {
          "output_type": "execute_result",
          "data": {
            "text/html": [
              "<div>\n",
              "<style scoped>\n",
              "    .dataframe tbody tr th:only-of-type {\n",
              "        vertical-align: middle;\n",
              "    }\n",
              "\n",
              "    .dataframe tbody tr th {\n",
              "        vertical-align: top;\n",
              "    }\n",
              "\n",
              "    .dataframe thead th {\n",
              "        text-align: right;\n",
              "    }\n",
              "</style>\n",
              "<table border=\"1\" class=\"dataframe\">\n",
              "  <thead>\n",
              "    <tr style=\"text-align: right;\">\n",
              "      <th></th>\n",
              "      <th>Population</th>\n",
              "      <th>County Name</th>\n",
              "    </tr>\n",
              "  </thead>\n",
              "  <tbody>\n",
              "    <tr>\n",
              "      <th>0</th>\n",
              "      <td>57922</td>\n",
              "      <td>Anderson</td>\n",
              "    </tr>\n",
              "    <tr>\n",
              "      <th>1</th>\n",
              "      <td>18610</td>\n",
              "      <td>Andrews</td>\n",
              "    </tr>\n",
              "    <tr>\n",
              "      <th>2</th>\n",
              "      <td>86395</td>\n",
              "      <td>Angelina</td>\n",
              "    </tr>\n",
              "    <tr>\n",
              "      <th>3</th>\n",
              "      <td>23830</td>\n",
              "      <td>Aransas</td>\n",
              "    </tr>\n",
              "    <tr>\n",
              "      <th>4</th>\n",
              "      <td>8560</td>\n",
              "      <td>Archer</td>\n",
              "    </tr>\n",
              "    <tr>\n",
              "      <th>...</th>\n",
              "      <td>...</td>\n",
              "      <td>...</td>\n",
              "    </tr>\n",
              "    <tr>\n",
              "      <th>249</th>\n",
              "      <td>44843</td>\n",
              "      <td>Wood</td>\n",
              "    </tr>\n",
              "    <tr>\n",
              "      <th>250</th>\n",
              "      <td>7694</td>\n",
              "      <td>Yoakum</td>\n",
              "    </tr>\n",
              "    <tr>\n",
              "      <th>251</th>\n",
              "      <td>17867</td>\n",
              "      <td>Young</td>\n",
              "    </tr>\n",
              "    <tr>\n",
              "      <th>252</th>\n",
              "      <td>13889</td>\n",
              "      <td>Zapata</td>\n",
              "    </tr>\n",
              "    <tr>\n",
              "      <th>253</th>\n",
              "      <td>9670</td>\n",
              "      <td>Zavala</td>\n",
              "    </tr>\n",
              "  </tbody>\n",
              "</table>\n",
              "<p>254 rows × 2 columns</p>\n",
              "</div>"
            ],
            "text/plain": [
              "     Population County Name\n",
              "0         57922    Anderson\n",
              "1         18610     Andrews\n",
              "2         86395    Angelina\n",
              "3         23830     Aransas\n",
              "4          8560      Archer\n",
              "..          ...         ...\n",
              "249       44843        Wood\n",
              "250        7694      Yoakum\n",
              "251       17867       Young\n",
              "252       13889      Zapata\n",
              "253        9670      Zavala\n",
              "\n",
              "[254 rows x 2 columns]"
            ]
          },
          "metadata": {},
          "execution_count": 8
        }
      ]
    },
    {
      "cell_type": "code",
      "metadata": {
        "colab": {
          "base_uri": "https://localhost:8080/",
          "height": 423
        },
        "id": "A9kc82D-c5iv",
        "outputId": "f9ce87c0-8806-4b53-96bf-fa1d7dab57d0"
      },
      "source": [
        "columns_titles = [\"County Name\",\"Population\"]\n",
        "pop=pop.reindex(columns=columns_titles)\n",
        "pop.index.drop\n",
        "#pop.set_index('County Name')\n",
        "pop"
      ],
      "execution_count": 9,
      "outputs": [
        {
          "output_type": "execute_result",
          "data": {
            "text/html": [
              "<div>\n",
              "<style scoped>\n",
              "    .dataframe tbody tr th:only-of-type {\n",
              "        vertical-align: middle;\n",
              "    }\n",
              "\n",
              "    .dataframe tbody tr th {\n",
              "        vertical-align: top;\n",
              "    }\n",
              "\n",
              "    .dataframe thead th {\n",
              "        text-align: right;\n",
              "    }\n",
              "</style>\n",
              "<table border=\"1\" class=\"dataframe\">\n",
              "  <thead>\n",
              "    <tr style=\"text-align: right;\">\n",
              "      <th></th>\n",
              "      <th>County Name</th>\n",
              "      <th>Population</th>\n",
              "    </tr>\n",
              "  </thead>\n",
              "  <tbody>\n",
              "    <tr>\n",
              "      <th>0</th>\n",
              "      <td>Anderson</td>\n",
              "      <td>57922</td>\n",
              "    </tr>\n",
              "    <tr>\n",
              "      <th>1</th>\n",
              "      <td>Andrews</td>\n",
              "      <td>18610</td>\n",
              "    </tr>\n",
              "    <tr>\n",
              "      <th>2</th>\n",
              "      <td>Angelina</td>\n",
              "      <td>86395</td>\n",
              "    </tr>\n",
              "    <tr>\n",
              "      <th>3</th>\n",
              "      <td>Aransas</td>\n",
              "      <td>23830</td>\n",
              "    </tr>\n",
              "    <tr>\n",
              "      <th>4</th>\n",
              "      <td>Archer</td>\n",
              "      <td>8560</td>\n",
              "    </tr>\n",
              "    <tr>\n",
              "      <th>...</th>\n",
              "      <td>...</td>\n",
              "      <td>...</td>\n",
              "    </tr>\n",
              "    <tr>\n",
              "      <th>249</th>\n",
              "      <td>Wood</td>\n",
              "      <td>44843</td>\n",
              "    </tr>\n",
              "    <tr>\n",
              "      <th>250</th>\n",
              "      <td>Yoakum</td>\n",
              "      <td>7694</td>\n",
              "    </tr>\n",
              "    <tr>\n",
              "      <th>251</th>\n",
              "      <td>Young</td>\n",
              "      <td>17867</td>\n",
              "    </tr>\n",
              "    <tr>\n",
              "      <th>252</th>\n",
              "      <td>Zapata</td>\n",
              "      <td>13889</td>\n",
              "    </tr>\n",
              "    <tr>\n",
              "      <th>253</th>\n",
              "      <td>Zavala</td>\n",
              "      <td>9670</td>\n",
              "    </tr>\n",
              "  </tbody>\n",
              "</table>\n",
              "<p>254 rows × 2 columns</p>\n",
              "</div>"
            ],
            "text/plain": [
              "    County Name  Population\n",
              "0      Anderson       57922\n",
              "1       Andrews       18610\n",
              "2      Angelina       86395\n",
              "3       Aransas       23830\n",
              "4        Archer        8560\n",
              "..          ...         ...\n",
              "249        Wood       44843\n",
              "250      Yoakum        7694\n",
              "251       Young       17867\n",
              "252      Zapata       13889\n",
              "253      Zavala        9670\n",
              "\n",
              "[254 rows x 2 columns]"
            ]
          },
          "metadata": {},
          "execution_count": 9
        }
      ]
    },
    {
      "cell_type": "code",
      "metadata": {
        "colab": {
          "base_uri": "https://localhost:8080/",
          "height": 455
        },
        "id": "jhEyZhQWdFsT",
        "outputId": "3dccf268-f847-4ebd-bb72-fd46700b3bb0"
      },
      "source": [
        "dF.drop(labels=None, axis=0, index=None, columns=['Probable Cases'], inplace=True)\n",
        "#dF = dF.rename(columns={'County': 'County Name'})\n",
        "dF = dF.set_index('County Name')\n",
        "dF"
      ],
      "execution_count": 10,
      "outputs": [
        {
          "output_type": "execute_result",
          "data": {
            "text/html": [
              "<div>\n",
              "<style scoped>\n",
              "    .dataframe tbody tr th:only-of-type {\n",
              "        vertical-align: middle;\n",
              "    }\n",
              "\n",
              "    .dataframe tbody tr th {\n",
              "        vertical-align: top;\n",
              "    }\n",
              "\n",
              "    .dataframe thead th {\n",
              "        text-align: right;\n",
              "    }\n",
              "</style>\n",
              "<table border=\"1\" class=\"dataframe\">\n",
              "  <thead>\n",
              "    <tr style=\"text-align: right;\">\n",
              "      <th></th>\n",
              "      <th>Confirmed Cases</th>\n",
              "      <th>Fatalities</th>\n",
              "    </tr>\n",
              "    <tr>\n",
              "      <th>County Name</th>\n",
              "      <th></th>\n",
              "      <th></th>\n",
              "    </tr>\n",
              "  </thead>\n",
              "  <tbody>\n",
              "    <tr>\n",
              "      <th>Anderson</th>\n",
              "      <td>5005.0</td>\n",
              "      <td>184</td>\n",
              "    </tr>\n",
              "    <tr>\n",
              "      <th>Andrews</th>\n",
              "      <td>2688.0</td>\n",
              "      <td>52</td>\n",
              "    </tr>\n",
              "    <tr>\n",
              "      <th>Angelina</th>\n",
              "      <td>6627.0</td>\n",
              "      <td>371</td>\n",
              "    </tr>\n",
              "    <tr>\n",
              "      <th>Aransas</th>\n",
              "      <td>1955.0</td>\n",
              "      <td>59</td>\n",
              "    </tr>\n",
              "    <tr>\n",
              "      <th>Archer</th>\n",
              "      <td>968.0</td>\n",
              "      <td>15</td>\n",
              "    </tr>\n",
              "    <tr>\n",
              "      <th>...</th>\n",
              "      <td>...</td>\n",
              "      <td>...</td>\n",
              "    </tr>\n",
              "    <tr>\n",
              "      <th>Wood</th>\n",
              "      <td>3415.0</td>\n",
              "      <td>198</td>\n",
              "    </tr>\n",
              "    <tr>\n",
              "      <th>Yoakum</th>\n",
              "      <td>1157.0</td>\n",
              "      <td>30</td>\n",
              "    </tr>\n",
              "    <tr>\n",
              "      <th>Young</th>\n",
              "      <td>2378.0</td>\n",
              "      <td>60</td>\n",
              "    </tr>\n",
              "    <tr>\n",
              "      <th>Zapata</th>\n",
              "      <td>1668.0</td>\n",
              "      <td>43</td>\n",
              "    </tr>\n",
              "    <tr>\n",
              "      <th>Zavala</th>\n",
              "      <td>2111.0</td>\n",
              "      <td>53</td>\n",
              "    </tr>\n",
              "  </tbody>\n",
              "</table>\n",
              "<p>254 rows × 2 columns</p>\n",
              "</div>"
            ],
            "text/plain": [
              "             Confirmed Cases  Fatalities\n",
              "County Name                             \n",
              "Anderson              5005.0         184\n",
              "Andrews               2688.0          52\n",
              "Angelina              6627.0         371\n",
              "Aransas               1955.0          59\n",
              "Archer                 968.0          15\n",
              "...                      ...         ...\n",
              "Wood                  3415.0         198\n",
              "Yoakum                1157.0          30\n",
              "Young                 2378.0          60\n",
              "Zapata                1668.0          43\n",
              "Zavala                2111.0          53\n",
              "\n",
              "[254 rows x 2 columns]"
            ]
          },
          "metadata": {},
          "execution_count": 10
        }
      ]
    },
    {
      "cell_type": "code",
      "metadata": {
        "colab": {
          "base_uri": "https://localhost:8080/",
          "height": 455
        },
        "id": "DRrDpoGwknxR",
        "outputId": "2aaeb70f-a7b6-489f-ab5c-7d84dbdcf38e"
      },
      "source": [
        "Fatalities = dA[\"People Fully Vaccinated\"].astype(np.float32)\n",
        "new_df = dF.join(Fatalities)\n",
        "new_df"
      ],
      "execution_count": 30,
      "outputs": [
        {
          "output_type": "execute_result",
          "data": {
            "text/html": [
              "<div>\n",
              "<style scoped>\n",
              "    .dataframe tbody tr th:only-of-type {\n",
              "        vertical-align: middle;\n",
              "    }\n",
              "\n",
              "    .dataframe tbody tr th {\n",
              "        vertical-align: top;\n",
              "    }\n",
              "\n",
              "    .dataframe thead th {\n",
              "        text-align: right;\n",
              "    }\n",
              "</style>\n",
              "<table border=\"1\" class=\"dataframe\">\n",
              "  <thead>\n",
              "    <tr style=\"text-align: right;\">\n",
              "      <th></th>\n",
              "      <th>Confirmed Cases</th>\n",
              "      <th>Fatalities</th>\n",
              "      <th>People Fully Vaccinated</th>\n",
              "    </tr>\n",
              "    <tr>\n",
              "      <th>County Name</th>\n",
              "      <th></th>\n",
              "      <th></th>\n",
              "      <th></th>\n",
              "    </tr>\n",
              "  </thead>\n",
              "  <tbody>\n",
              "    <tr>\n",
              "      <th>Anderson</th>\n",
              "      <td>5005.0</td>\n",
              "      <td>184</td>\n",
              "      <td>20579.0</td>\n",
              "    </tr>\n",
              "    <tr>\n",
              "      <th>Andrews</th>\n",
              "      <td>2688.0</td>\n",
              "      <td>52</td>\n",
              "      <td>7094.0</td>\n",
              "    </tr>\n",
              "    <tr>\n",
              "      <th>Angelina</th>\n",
              "      <td>6627.0</td>\n",
              "      <td>371</td>\n",
              "      <td>34074.0</td>\n",
              "    </tr>\n",
              "    <tr>\n",
              "      <th>Aransas</th>\n",
              "      <td>1955.0</td>\n",
              "      <td>59</td>\n",
              "      <td>12791.0</td>\n",
              "    </tr>\n",
              "    <tr>\n",
              "      <th>Archer</th>\n",
              "      <td>968.0</td>\n",
              "      <td>15</td>\n",
              "      <td>3654.0</td>\n",
              "    </tr>\n",
              "    <tr>\n",
              "      <th>...</th>\n",
              "      <td>...</td>\n",
              "      <td>...</td>\n",
              "      <td>...</td>\n",
              "    </tr>\n",
              "    <tr>\n",
              "      <th>Wood</th>\n",
              "      <td>3415.0</td>\n",
              "      <td>198</td>\n",
              "      <td>17413.0</td>\n",
              "    </tr>\n",
              "    <tr>\n",
              "      <th>Yoakum</th>\n",
              "      <td>1157.0</td>\n",
              "      <td>30</td>\n",
              "      <td>3048.0</td>\n",
              "    </tr>\n",
              "    <tr>\n",
              "      <th>Young</th>\n",
              "      <td>2378.0</td>\n",
              "      <td>60</td>\n",
              "      <td>6497.0</td>\n",
              "    </tr>\n",
              "    <tr>\n",
              "      <th>Zapata</th>\n",
              "      <td>1668.0</td>\n",
              "      <td>43</td>\n",
              "      <td>7722.0</td>\n",
              "    </tr>\n",
              "    <tr>\n",
              "      <th>Zavala</th>\n",
              "      <td>2111.0</td>\n",
              "      <td>53</td>\n",
              "      <td>5343.0</td>\n",
              "    </tr>\n",
              "  </tbody>\n",
              "</table>\n",
              "<p>254 rows × 3 columns</p>\n",
              "</div>"
            ],
            "text/plain": [
              "             Confirmed Cases  Fatalities  People Fully Vaccinated\n",
              "County Name                                                      \n",
              "Anderson              5005.0         184                  20579.0\n",
              "Andrews               2688.0          52                   7094.0\n",
              "Angelina              6627.0         371                  34074.0\n",
              "Aransas               1955.0          59                  12791.0\n",
              "Archer                 968.0          15                   3654.0\n",
              "...                      ...         ...                      ...\n",
              "Wood                  3415.0         198                  17413.0\n",
              "Yoakum                1157.0          30                   3048.0\n",
              "Young                 2378.0          60                   6497.0\n",
              "Zapata                1668.0          43                   7722.0\n",
              "Zavala                2111.0          53                   5343.0\n",
              "\n",
              "[254 rows x 3 columns]"
            ]
          },
          "metadata": {},
          "execution_count": 30
        }
      ]
    },
    {
      "cell_type": "code",
      "metadata": {
        "colab": {
          "base_uri": "https://localhost:8080/"
        },
        "id": "CMO26GPKtQCI",
        "outputId": "2c2b97ad-8251-443c-ab8a-e0e37ba3674e"
      },
      "source": [
        "dd = dA['People Fully Vaccinated'].astype(np.float32)\n",
        "dd"
      ],
      "execution_count": 28,
      "outputs": [
        {
          "output_type": "execute_result",
          "data": {
            "text/plain": [
              "County Name\n",
              "Anderson    20579.0\n",
              "Andrews      7094.0\n",
              "Angelina    34074.0\n",
              "Aransas     12791.0\n",
              "Archer       3654.0\n",
              "             ...   \n",
              "Wood        17413.0\n",
              "Yoakum       3048.0\n",
              "Young        6497.0\n",
              "Zapata       7722.0\n",
              "Zavala       5343.0\n",
              "Name: People Fully Vaccinated, Length: 254, dtype: float32"
            ]
          },
          "metadata": {},
          "execution_count": 28
        }
      ]
    },
    {
      "cell_type": "code",
      "metadata": {
        "colab": {
          "base_uri": "https://localhost:8080/"
        },
        "id": "TD47jWYU_Xdn",
        "outputId": "979a6668-7191-4d18-a9ea-13492410dd02"
      },
      "source": [
        "new_df.keys()"
      ],
      "execution_count": 21,
      "outputs": [
        {
          "output_type": "execute_result",
          "data": {
            "text/plain": [
              "Index(['Confirmed Cases', 'Fatalities', 'People Fully Vaccinated'], dtype='object')"
            ]
          },
          "metadata": {},
          "execution_count": 21
        }
      ]
    },
    {
      "cell_type": "code",
      "metadata": {
        "colab": {
          "base_uri": "https://localhost:8080/",
          "height": 345
        },
        "id": "TSem9zYAKH2n",
        "outputId": "b4d2ac81-a1f9-42c0-9902-21566c7207a0"
      },
      "source": [
        "#plot 1:\n",
        "fig = plt.figure(figsize=(10,5))\n",
        "#plt.subplot(1, 2, 1)\n",
        "\n",
        "#plt.scatter(female, male)\n",
        "plt.scatter(new_df[\"Fatalities\"], dd, label=f'Correlation = {np.round(np.corrcoef(new_df[\"Fatalities\"], dd)[0,1], 2)}')\n",
        "#plt.scatter(rdf[\"Confirmed Cases\"], rdf[\"Fatalities\"], label=f'rdf[\"Fatalities\"] Correlation = {np.round(np.corrcoef(rdf[\"Confirmed Cases\"], rdf[\"Fatalities\"])[0,1], 2)}')\n",
        "\n",
        "plt.xlabel(\"F\")\n",
        "plt.ylabel(\"V\")\n",
        "plt.legend()\n",
        "plt.grid()\n",
        "plt.show()"
      ],
      "execution_count": 29,
      "outputs": [
        {
          "output_type": "display_data",
          "data": {
            "image/png": "[encoded data removed]",
            "text/plain": [
              "<Figure size 720x360 with 1 Axes>"
            ]
          },
          "metadata": {
            "needs_background": "light"
          }
        }
      ]
    },
    {
      "cell_type": "code",
      "metadata": {
        "colab": {
          "base_uri": "https://localhost:8080/",
          "height": 734
        },
        "id": "LtQQ5Mpfjvcm",
        "outputId": "41e16eb0-c6af-486a-aec3-5ee969088f38"
      },
      "source": [
        "from pandas.plotting import scatter_matrix\n",
        "scatter_matrix(new_df, figsize = (15,12))\n",
        "plt.show()"
      ],
      "execution_count": 31,
      "outputs": [
        {
          "output_type": "display_data",
          "data": {
            "image/png": "[encoded data removed]",
            "text/plain": [
              "<Figure size 1080x864 with 9 Axes>"
            ]
          },
          "metadata": {
            "needs_background": "light"
          }
        }
      ]
    },
    {
      "cell_type": "code",
      "metadata": {
        "colab": {
          "base_uri": "https://localhost:8080/"
        },
        "id": "qGxxafJjSHNi",
        "outputId": "cad0b815-fd8b-4eaf-d71c-da3b37ed47f5"
      },
      "source": [
        "new_df.keys()"
      ],
      "execution_count": 35,
      "outputs": [
        {
          "output_type": "execute_result",
          "data": {
            "text/plain": [
              "Index(['Confirmed Cases', 'Fatalities', 'People Fully Vaccinated'], dtype='object')"
            ]
          },
          "metadata": {},
          "execution_count": 35
        }
      ]
    },
    {
      "cell_type": "code",
      "metadata": {
        "colab": {
          "base_uri": "https://localhost:8080/"
        },
        "id": "BXKyLdNSu3n7",
        "outputId": "ec20261f-f82c-476c-8694-46f00d55c725"
      },
      "source": [
        "from scipy.stats import wilcoxon,kruskal,friedmanchisquare,f_oneway,ttest_ind,chisquare\n",
        "#F, p = f_oneway(ps['A'],ps['B'],ps['C'],ps['D'])\n",
        "#s,p = f_oneway(udf['Fatalities'],rdf['Fatalities'])\n",
        "s,p = ttest_ind(new_df['Fatalities'],new_df['People Fully Vaccinated'])\n",
        "s,p"
      ],
      "execution_count": 41,
      "outputs": [
        {
          "output_type": "execute_result",
          "data": {
            "text/plain": [
              "(-4.1693819046354665, 3.59328030017755e-05)"
            ]
          },
          "metadata": {},
          "execution_count": 41
        }
      ]
    },
    {
      "cell_type": "code",
      "metadata": {
        "colab": {
          "base_uri": "https://localhost:8080/"
        },
        "id": "6BW1088tQyOl",
        "outputId": "159cd42f-39f2-47a9-979c-1567eec8dbab"
      },
      "source": [
        "alpha = 0.05\n",
        "if p < alpha:\n",
        "\tprint('Different distributions (reject H0)')\n",
        "else:\n",
        "\tprint('Same distributions (fail to reject H0, so H0 is accepted)')\n",
        "s,p "
      ],
      "execution_count": 42,
      "outputs": [
        {
          "output_type": "stream",
          "name": "stdout",
          "text": [
            "Different distributions (reject H0)\n"
          ]
        },
        {
          "output_type": "execute_result",
          "data": {
            "text/plain": [
              "(-4.1693819046354665, 3.59328030017755e-05)"
            ]
          },
          "metadata": {},
          "execution_count": 42
        }
      ]
    }
  ]
}