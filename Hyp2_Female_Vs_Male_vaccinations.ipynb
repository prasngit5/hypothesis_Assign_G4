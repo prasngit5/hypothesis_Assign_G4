{
  "nbformat": 4,
  "nbformat_minor": 0,
  "metadata": {
    "colab": {
      "name": "Hyp2_Female Vs Male vaccinations",
      "provenance": [],
      "collapsed_sections": [],
      "mount_file_id": "1hbkv-BqcQNz-ozoNvtBlMbw91w2ziBRD",
      "authorship_tag": "ABX9TyOLL3YycTPNGZzPTJjJ7VHu",
      "include_colab_link": true
    },
    "kernelspec": {
      "name": "python3",
      "display_name": "Python 3"
    },
    "language_info": {
      "name": "python"
    }
  },
  "cells": [
    {
      "cell_type": "markdown",
      "metadata": {
        "id": "view-in-github",
        "colab_type": "text"
      },
      "source": [
        "<a href=\"https://colab.research.google.com/github/prasngit5/hypothesis_Assign_G4/blob/main/Hyp2_Female_Vs_Male_vaccinations.ipynb\" target=\"_parent\"><img src=\"https://colab.research.google.com/assets/colab-badge.svg\" alt=\"Open In Colab\"/></a>"
      ]
    },
    {
      "cell_type": "code",
      "metadata": {
        "id": "S_GXwWkuKzts"
      },
      "source": [
        ""
      ],
      "execution_count": null,
      "outputs": []
    },
    {
      "cell_type": "code",
      "metadata": {
        "colab": {
          "base_uri": "https://localhost:8080/"
        },
        "id": "DwSzv5rXw2Sr",
        "outputId": "25fb1895-ba84-4dc1-dcf2-5c69248563d5"
      },
      "source": [
        "%cd /content/drive/MyDrive/git_folder"
      ],
      "execution_count": 14,
      "outputs": [
        {
          "output_type": "stream",
          "name": "stdout",
          "text": [
            "/content/drive/MyDrive/git_folder\n"
          ]
        }
      ]
    },
    {
      "cell_type": "code",
      "metadata": {
        "colab": {
          "base_uri": "https://localhost:8080/",
          "height": 35
        },
        "id": "St00JHBIywQJ",
        "outputId": "5175cf12-f8bb-43ce-cd10-d33d933acc2e"
      },
      "source": [
        "%pwd"
      ],
      "execution_count": 15,
      "outputs": [
        {
          "output_type": "execute_result",
          "data": {
            "application/vnd.google.colaboratory.intrinsic+json": {
              "type": "string"
            },
            "text/plain": [
              "'/content/drive/My Drive/git_folder'"
            ]
          },
          "metadata": {},
          "execution_count": 15
        }
      ]
    },
    {
      "cell_type": "code",
      "metadata": {
        "colab": {
          "base_uri": "https://localhost:8080/"
        },
        "id": "XFQMZd4wyyvj",
        "outputId": "3732feea-3bd2-47b4-f42b-373eefbcb583"
      },
      "source": [
        "#!git init"
      ],
      "execution_count": 16,
      "outputs": [
        {
          "output_type": "stream",
          "name": "stdout",
          "text": [
            "Reinitialized existing Git repository in /content/drive/My Drive/git_folder/.git/\n"
          ]
        }
      ]
    },
    {
      "cell_type": "code",
      "metadata": {
        "colab": {
          "base_uri": "https://localhost:8080/"
        },
        "id": "2MQ7cH6VRHdT",
        "outputId": "cb809ac2-6229-4594-fda4-33de83db7ff2"
      },
      "source": [
        "#!git clone https://github.com/hyp-G-4/H-G-4.git"
      ],
      "execution_count": 18,
      "outputs": [
        {
          "output_type": "stream",
          "name": "stdout",
          "text": [
            "Cloning into 'H-G-4'...\n",
            "fatal: could not read Username for 'https://github.com': No such device or address\n"
          ]
        }
      ]
    },
    {
      "cell_type": "code",
      "metadata": {
        "colab": {
          "base_uri": "https://localhost:8080/"
        },
        "id": "kD8-J9Dky4HB",
        "outputId": "1ede16e5-2abf-44d5-d5c3-1875079b1117"
      },
      "source": [
        "#!git remote add origin https://github.com/hyp-G-4/H-G-4.git"
      ],
      "execution_count": 17,
      "outputs": [
        {
          "output_type": "stream",
          "name": "stdout",
          "text": [
            "fatal: remote origin already exists.\n"
          ]
        }
      ]
    },
    {
      "cell_type": "code",
      "metadata": {
        "id": "MFFwQ3OVzGmw"
      },
      "source": [
        "#!git remote -v"
      ],
      "execution_count": null,
      "outputs": []
    },
    {
      "cell_type": "code",
      "metadata": {
        "id": "RstffLsK0D5_"
      },
      "source": [
        "#!git config --global user.email '{snethala@islander.tamucc.edu}'\n",
        "#!git config --global user.name '{prasad}'"
      ],
      "execution_count": 19,
      "outputs": []
    },
    {
      "cell_type": "code",
      "metadata": {
        "id": "PI-7Kcti0xuI"
      },
      "source": [
        "#!git add ."
      ],
      "execution_count": 20,
      "outputs": []
    },
    {
      "cell_type": "code",
      "metadata": {
        "id": "PH2bLosg07BB"
      },
      "source": [
        "#!git commit -m 'First Comit'"
      ],
      "execution_count": null,
      "outputs": []
    },
    {
      "cell_type": "code",
      "metadata": {
        "id": "ue7Mjkft28MQ"
      },
      "source": [
        "#!git branch --unset-upstream"
      ],
      "execution_count": null,
      "outputs": []
    },
    {
      "cell_type": "code",
      "metadata": {
        "id": "WNI9YjF_2Nb4"
      },
      "source": [
        "#!git branch -M main"
      ],
      "execution_count": null,
      "outputs": []
    },
    {
      "cell_type": "code",
      "metadata": {
        "id": "fZ8sgozQ1Lr6"
      },
      "source": [
        "#!git push -u origin main"
      ],
      "execution_count": null,
      "outputs": []
    },
    {
      "cell_type": "code",
      "metadata": {
        "id": "XIVshjxU3-e-"
      },
      "source": [
        "import pandas as pd\n",
        "import numpy as np\n",
        "import matplotlib.pyplot as plt\n",
        "%matplotlib inline"
      ],
      "execution_count": null,
      "outputs": []
    },
    {
      "cell_type": "code",
      "metadata": {
        "id": "fahtVEbe2OM-"
      },
      "source": [
        "link = \"https://dshs.texas.gov/immunize/covid19/COVID-19-Vaccine-Data-by-County.xls\""
      ],
      "execution_count": null,
      "outputs": []
    },
    {
      "cell_type": "code",
      "metadata": {
        "colab": {
          "base_uri": "https://localhost:8080/",
          "height": 423
        },
        "id": "wWBqNI3v3fkz",
        "outputId": "33b6859c-8412-4c4c-b147-a0d980dd9a3a"
      },
      "source": [
        "\n",
        "dA = pd.read_excel(link, sheet_name = 'By Age, Gender, Race')\n",
        "dA=dA.truncate(after=71)  # There are extra rows in the file, just remove, should look for last county, but this is easier\n",
        "dA.drop(labels=None, axis=0, index=None, columns=['Race/Ethnicity'], inplace=True)\n",
        "dA"
      ],
      "execution_count": null,
      "outputs": [
        {
          "output_type": "execute_result",
          "data": {
            "text/html": [
              "<div>\n",
              "<style scoped>\n",
              "    .dataframe tbody tr th:only-of-type {\n",
              "        vertical-align: middle;\n",
              "    }\n",
              "\n",
              "    .dataframe tbody tr th {\n",
              "        vertical-align: top;\n",
              "    }\n",
              "\n",
              "    .dataframe thead th {\n",
              "        text-align: right;\n",
              "    }\n",
              "</style>\n",
              "<table border=\"1\" class=\"dataframe\">\n",
              "  <thead>\n",
              "    <tr style=\"text-align: right;\">\n",
              "      <th></th>\n",
              "      <th>Gender</th>\n",
              "      <th>Age Group</th>\n",
              "      <th>Doses Administered</th>\n",
              "      <th>People Vaccinated with at least One Dose</th>\n",
              "      <th>People Fully Vaccinated</th>\n",
              "    </tr>\n",
              "  </thead>\n",
              "  <tbody>\n",
              "    <tr>\n",
              "      <th>0</th>\n",
              "      <td>Female</td>\n",
              "      <td>12-15 years</td>\n",
              "      <td>45030</td>\n",
              "      <td>24066</td>\n",
              "      <td>20947</td>\n",
              "    </tr>\n",
              "    <tr>\n",
              "      <th>1</th>\n",
              "      <td>Female</td>\n",
              "      <td>12-15 years</td>\n",
              "      <td>58230</td>\n",
              "      <td>32606</td>\n",
              "      <td>25596</td>\n",
              "    </tr>\n",
              "    <tr>\n",
              "      <th>2</th>\n",
              "      <td>Female</td>\n",
              "      <td>12-15 years</td>\n",
              "      <td>383226</td>\n",
              "      <td>215093</td>\n",
              "      <td>167925</td>\n",
              "    </tr>\n",
              "    <tr>\n",
              "      <th>3</th>\n",
              "      <td>Female</td>\n",
              "      <td>12-15 years</td>\n",
              "      <td>179142</td>\n",
              "      <td>98022</td>\n",
              "      <td>80978</td>\n",
              "    </tr>\n",
              "    <tr>\n",
              "      <th>4</th>\n",
              "      <td>Female</td>\n",
              "      <td>12-15 years</td>\n",
              "      <td>17650</td>\n",
              "      <td>10608</td>\n",
              "      <td>7041</td>\n",
              "    </tr>\n",
              "    <tr>\n",
              "      <th>...</th>\n",
              "      <td>...</td>\n",
              "      <td>...</td>\n",
              "      <td>...</td>\n",
              "      <td>...</td>\n",
              "      <td>...</td>\n",
              "    </tr>\n",
              "    <tr>\n",
              "      <th>67</th>\n",
              "      <td>Male</td>\n",
              "      <td>Unknown</td>\n",
              "      <td>167</td>\n",
              "      <td>131</td>\n",
              "      <td>48</td>\n",
              "    </tr>\n",
              "    <tr>\n",
              "      <th>68</th>\n",
              "      <td>Male</td>\n",
              "      <td>Unknown</td>\n",
              "      <td>1287</td>\n",
              "      <td>1000</td>\n",
              "      <td>367</td>\n",
              "    </tr>\n",
              "    <tr>\n",
              "      <th>69</th>\n",
              "      <td>Male</td>\n",
              "      <td>Unknown</td>\n",
              "      <td>367</td>\n",
              "      <td>266</td>\n",
              "      <td>115</td>\n",
              "    </tr>\n",
              "    <tr>\n",
              "      <th>70</th>\n",
              "      <td>Male</td>\n",
              "      <td>Unknown</td>\n",
              "      <td>643</td>\n",
              "      <td>544</td>\n",
              "      <td>111</td>\n",
              "    </tr>\n",
              "    <tr>\n",
              "      <th>71</th>\n",
              "      <td>Male</td>\n",
              "      <td>Unknown</td>\n",
              "      <td>788</td>\n",
              "      <td>616</td>\n",
              "      <td>212</td>\n",
              "    </tr>\n",
              "  </tbody>\n",
              "</table>\n",
              "<p>72 rows × 5 columns</p>\n",
              "</div>"
            ],
            "text/plain": [
              "   Gender   ... People Fully Vaccinated \n",
              "0   Female  ...                    20947\n",
              "1   Female  ...                    25596\n",
              "2   Female  ...                   167925\n",
              "3   Female  ...                    80978\n",
              "4   Female  ...                     7041\n",
              "..     ...  ...                      ...\n",
              "67    Male  ...                       48\n",
              "68    Male  ...                      367\n",
              "69    Male  ...                      115\n",
              "70    Male  ...                      111\n",
              "71    Male  ...                      212\n",
              "\n",
              "[72 rows x 5 columns]"
            ]
          },
          "metadata": {},
          "execution_count": 100
        }
      ]
    },
    {
      "cell_type": "code",
      "metadata": {
        "colab": {
          "base_uri": "https://localhost:8080/"
        },
        "id": "8bN-KRCF8AJi",
        "outputId": "07dea9ef-8170-4570-a899-f026670b7e52"
      },
      "source": [
        "dA.keys()"
      ],
      "execution_count": null,
      "outputs": [
        {
          "output_type": "execute_result",
          "data": {
            "text/plain": [
              "Index(['Gender ', 'Age Group', 'Doses Administered',\n",
              "       'People Vaccinated with at least One Dose', 'People Fully Vaccinated '],\n",
              "      dtype='object')"
            ]
          },
          "metadata": {},
          "execution_count": 101
        }
      ]
    },
    {
      "cell_type": "code",
      "metadata": {
        "colab": {
          "base_uri": "https://localhost:8080/"
        },
        "id": "3JPW2JeT73Bx",
        "outputId": "2635400e-869c-45de-ea84-d83253152edb"
      },
      "source": [
        "#\n",
        "dA.head(7)\n",
        "dA.keys()"
      ],
      "execution_count": null,
      "outputs": [
        {
          "output_type": "execute_result",
          "data": {
            "text/plain": [
              "Index(['Gender ', 'Age Group', 'Doses Administered',\n",
              "       'People Vaccinated with at least One Dose', 'People Fully Vaccinated '],\n",
              "      dtype='object')"
            ]
          },
          "metadata": {},
          "execution_count": 102
        }
      ]
    },
    {
      "cell_type": "code",
      "metadata": {
        "colab": {
          "base_uri": "https://localhost:8080/",
          "height": 457
        },
        "id": "MEtBFhdSBAnG",
        "outputId": "83ea8656-f403-42e3-c9a7-27768d93209f"
      },
      "source": [
        "s = dA.groupby(['Gender ','Age Group']).sum()\n",
        "s"
      ],
      "execution_count": null,
      "outputs": [
        {
          "output_type": "execute_result",
          "data": {
            "text/html": [
              "<div>\n",
              "<style scoped>\n",
              "    .dataframe tbody tr th:only-of-type {\n",
              "        vertical-align: middle;\n",
              "    }\n",
              "\n",
              "    .dataframe tbody tr th {\n",
              "        vertical-align: top;\n",
              "    }\n",
              "\n",
              "    .dataframe thead th {\n",
              "        text-align: right;\n",
              "    }\n",
              "</style>\n",
              "<table border=\"1\" class=\"dataframe\">\n",
              "  <thead>\n",
              "    <tr style=\"text-align: right;\">\n",
              "      <th></th>\n",
              "      <th></th>\n",
              "      <th>Doses Administered</th>\n",
              "      <th>People Vaccinated with at least One Dose</th>\n",
              "      <th>People Fully Vaccinated</th>\n",
              "    </tr>\n",
              "    <tr>\n",
              "      <th>Gender</th>\n",
              "      <th>Age Group</th>\n",
              "      <th></th>\n",
              "      <th></th>\n",
              "      <th></th>\n",
              "    </tr>\n",
              "  </thead>\n",
              "  <tbody>\n",
              "    <tr>\n",
              "      <th rowspan=\"6\" valign=\"top\">Female</th>\n",
              "      <th>12-15 years</th>\n",
              "      <td>850431</td>\n",
              "      <td>472394</td>\n",
              "      <td>377531</td>\n",
              "    </tr>\n",
              "    <tr>\n",
              "      <th>16-49 years</th>\n",
              "      <td>8501571</td>\n",
              "      <td>4720841</td>\n",
              "      <td>4017445</td>\n",
              "    </tr>\n",
              "    <tr>\n",
              "      <th>50-64 years</th>\n",
              "      <td>3921424</td>\n",
              "      <td>2101526</td>\n",
              "      <td>1873063</td>\n",
              "    </tr>\n",
              "    <tr>\n",
              "      <th>65-79 years</th>\n",
              "      <td>2778153</td>\n",
              "      <td>1415056</td>\n",
              "      <td>1285725</td>\n",
              "    </tr>\n",
              "    <tr>\n",
              "      <th>80+ years</th>\n",
              "      <td>798778</td>\n",
              "      <td>412865</td>\n",
              "      <td>368258</td>\n",
              "    </tr>\n",
              "    <tr>\n",
              "      <th>Unknown</th>\n",
              "      <td>3801</td>\n",
              "      <td>2973</td>\n",
              "      <td>960</td>\n",
              "    </tr>\n",
              "    <tr>\n",
              "      <th rowspan=\"6\" valign=\"top\">Male</th>\n",
              "      <th>12-15 years</th>\n",
              "      <td>849005</td>\n",
              "      <td>474199</td>\n",
              "      <td>374281</td>\n",
              "    </tr>\n",
              "    <tr>\n",
              "      <th>16-49 years</th>\n",
              "      <td>7595702</td>\n",
              "      <td>4332090</td>\n",
              "      <td>3616367</td>\n",
              "    </tr>\n",
              "    <tr>\n",
              "      <th>50-64 years</th>\n",
              "      <td>3504512</td>\n",
              "      <td>1911070</td>\n",
              "      <td>1690748</td>\n",
              "    </tr>\n",
              "    <tr>\n",
              "      <th>65-79 years</th>\n",
              "      <td>2281329</td>\n",
              "      <td>1166297</td>\n",
              "      <td>1056755</td>\n",
              "    </tr>\n",
              "    <tr>\n",
              "      <th>80+ years</th>\n",
              "      <td>515863</td>\n",
              "      <td>263845</td>\n",
              "      <td>235138</td>\n",
              "    </tr>\n",
              "    <tr>\n",
              "      <th>Unknown</th>\n",
              "      <td>3376</td>\n",
              "      <td>2650</td>\n",
              "      <td>887</td>\n",
              "    </tr>\n",
              "  </tbody>\n",
              "</table>\n",
              "</div>"
            ],
            "text/plain": [
              "                     Doses Administered  ...  People Fully Vaccinated \n",
              "Gender  Age Group                        ...                          \n",
              "Female  12-15 years              850431  ...                    377531\n",
              "        16-49 years             8501571  ...                   4017445\n",
              "        50-64 years             3921424  ...                   1873063\n",
              "        65-79 years             2778153  ...                   1285725\n",
              "        80+ years                798778  ...                    368258\n",
              "        Unknown                    3801  ...                       960\n",
              "Male    12-15 years              849005  ...                    374281\n",
              "        16-49 years             7595702  ...                   3616367\n",
              "        50-64 years             3504512  ...                   1690748\n",
              "        65-79 years             2281329  ...                   1056755\n",
              "        80+ years                515863  ...                    235138\n",
              "        Unknown                    3376  ...                       887\n",
              "\n",
              "[12 rows x 3 columns]"
            ]
          },
          "metadata": {},
          "execution_count": 119
        }
      ]
    },
    {
      "cell_type": "code",
      "metadata": {
        "id": "0PTBu3F2KeRL"
      },
      "source": [
        ""
      ],
      "execution_count": null,
      "outputs": []
    },
    {
      "cell_type": "code",
      "metadata": {
        "colab": {
          "base_uri": "https://localhost:8080/",
          "height": 497
        },
        "id": "tOHSJmr9C3J_",
        "outputId": "f6a2cf77-5f96-4308-a631-dea2725ab15f"
      },
      "source": [
        "fig = plt.figure(figsize=(10,5))\n",
        "s['People Fully Vaccinated '].plot(kind='bar') \n",
        "s"
      ],
      "execution_count": null,
      "outputs": [
        {
          "output_type": "execute_result",
          "data": {
            "text/plain": [
              "Index(['Doses Administered', 'People Vaccinated with at least One Dose',\n",
              "       'People Fully Vaccinated '],\n",
              "      dtype='object')"
            ]
          },
          "metadata": {},
          "execution_count": 108
        },
        {
          "output_type": "display_data",
          "data": {
            "image/png": "[encoded data removed]",
            "text/plain": [
              "<Figure size 720x360 with 1 Axes>"
            ]
          },
          "metadata": {
            "needs_background": "light"
          }
        }
      ]
    },
    {
      "cell_type": "code",
      "metadata": {
        "colab": {
          "base_uri": "https://localhost:8080/",
          "height": 717
        },
        "id": "atpOrbJQD3Sk",
        "outputId": "62e353dd-7721-423f-96ef-7c7134f10b2a"
      },
      "source": [
        "from pandas.plotting import scatter_matrix\n",
        "\n",
        "scatter_matrix(s, figsize = (15,12))\n",
        "plt.show()"
      ],
      "execution_count": null,
      "outputs": [
        {
          "output_type": "display_data",
          "data": {
            "image/png": "[encoded data removed]",
            "text/plain": [
              "<Figure size 1080x864 with 9 Axes>"
            ]
          },
          "metadata": {
            "needs_background": "light"
          }
        }
      ]
    },
    {
      "cell_type": "code",
      "metadata": {
        "colab": {
          "base_uri": "https://localhost:8080/"
        },
        "id": "J8KAIXYjHF0E",
        "outputId": "006fa8b9-32c7-4c41-a1af-315e7533a520"
      },
      "source": [
        "s.keys()\n"
      ],
      "execution_count": null,
      "outputs": [
        {
          "output_type": "execute_result",
          "data": {
            "text/plain": [
              "Index(['Doses Administered', 'People Vaccinated with at least One Dose',\n",
              "       'People Fully Vaccinated '],\n",
              "      dtype='object')"
            ]
          },
          "metadata": {},
          "execution_count": 118
        }
      ]
    },
    {
      "cell_type": "code",
      "metadata": {
        "colab": {
          "base_uri": "https://localhost:8080/"
        },
        "id": "wHC8TzNhQg3J",
        "outputId": "8694d4bb-2804-48a4-8db5-29f2893c2267"
      },
      "source": [
        "female =s.loc['Female', 'People Fully Vaccinated ']\n",
        "male = s.loc['Male', 'People Fully Vaccinated ']\n"
      ],
      "execution_count": null,
      "outputs": [
        {
          "output_type": "execute_result",
          "data": {
            "text/plain": [
              "Age Group\n",
              "12-15 years     374281\n",
              "16-49 years    3616367\n",
              "50-64 years    1690748\n",
              "65-79 years    1056755\n",
              "80+ years       235138\n",
              "Unknown            887\n",
              "Name: People Fully Vaccinated , dtype: int64"
            ]
          },
          "metadata": {},
          "execution_count": 129
        }
      ]
    },
    {
      "cell_type": "code",
      "metadata": {
        "colab": {
          "base_uri": "https://localhost:8080/",
          "height": 345
        },
        "id": "2TZW8nu2Ejs9",
        "outputId": "c88d2202-b68e-407a-ebbf-d92587bd16ee"
      },
      "source": [
        "\n",
        "#plot 1:\n",
        "fig = plt.figure(figsize=(10,5))\n",
        "#plt.subplot(1, 2, 1)\n",
        "\n",
        "#plt.scatter(female, male)\n",
        "plt.scatter(female, male, label=f'Correlation = {np.round(np.corrcoef(female, male)[0,1], 2)}')\n",
        "#plt.scatter(rdf[\"Confirmed Cases\"], rdf[\"Fatalities\"], label=f'rdf[\"Fatalities\"] Correlation = {np.round(np.corrcoef(rdf[\"Confirmed Cases\"], rdf[\"Fatalities\"])[0,1], 2)}')\n",
        "#plt.scatter(s['Gender ', 'Age Group'], s['People Fully Vaccinated '], label= f's[\"People Fully Vaccinated\"] Correlation = {np.round(np.corrcoef(s['Gender ', 'Age Group'], s['People Fully Vaccinated '])[0,1], 2)}')\n",
        "\n",
        "plt.xlabel(\"Female Fully vaccinated\")\n",
        "plt.ylabel(\"Male Fully vaccinated\")\n",
        "plt.legend()\n",
        "plt.grid()\n",
        "plt.show()"
      ],
      "execution_count": null,
      "outputs": [
        {
          "output_type": "display_data",
          "data": {
            "image/png": "[encoded data removed]",
            "text/plain": [
              "<Figure size 720x360 with 1 Axes>"
            ]
          },
          "metadata": {
            "needs_background": "light"
          }
        }
      ]
    },
    {
      "cell_type": "code",
      "metadata": {
        "colab": {
          "base_uri": "https://localhost:8080/"
        },
        "id": "_jRrqJSXS8JG",
        "outputId": "5e3c659f-87d5-46b4-97e3-9a3266a31f6c"
      },
      "source": [
        "from scipy.stats import wilcoxon,kruskal,friedmanchisquare,f_oneway,ttest_ind,chisquare\n",
        "#F, p = f_oneway(ps['A'],ps['B'],ps['C'],ps['D'])\n",
        "#s,p = f_oneway(udf['Fatalities'],rdf['Fatalities'])\n",
        "s,p = f_oneway(female,male)\n",
        "s,p"
      ],
      "execution_count": null,
      "outputs": [
        {
          "output_type": "execute_result",
          "data": {
            "text/plain": [
              "(0.03702922099873741, 0.851257245081476)"
            ]
          },
          "metadata": {},
          "execution_count": 133
        }
      ]
    },
    {
      "cell_type": "code",
      "metadata": {
        "colab": {
          "base_uri": "https://localhost:8080/"
        },
        "id": "l7oL5WahTdBK",
        "outputId": "00c74f83-bfc6-47ad-a0ce-20f45b65b8c4"
      },
      "source": [
        "from scipy.stats import wilcoxon,kruskal,friedmanchisquare,f_oneway,ttest_ind,chisquare\n",
        "#F, p = f_oneway(ps['A'],ps['B'],ps['C'],ps['D'])\n",
        "#s,p = f_oneway(udf['Fatalities'],rdf['Fatalities'])\n",
        "s,p = ttest_ind(female,male)\n",
        "s,p"
      ],
      "execution_count": null,
      "outputs": [
        {
          "output_type": "execute_result",
          "data": {
            "text/plain": [
              "(0.19242978199524474, 0.8512572450814767)"
            ]
          },
          "metadata": {},
          "execution_count": 135
        }
      ]
    },
    {
      "cell_type": "code",
      "metadata": {
        "colab": {
          "base_uri": "https://localhost:8080/"
        },
        "id": "9Ma1t6PHTNuM",
        "outputId": "0c471d32-8652-47f0-86cb-6208a306cc4c"
      },
      "source": [
        "alpha = 0.05\n",
        "if p < alpha:\n",
        "\tprint('Different distributions (reject H0)')\n",
        "else:\n",
        "\tprint('Same distributions (fail to reject H0, so H0 is accepted)')\n",
        "s,p "
      ],
      "execution_count": null,
      "outputs": [
        {
          "output_type": "stream",
          "name": "stdout",
          "text": [
            "Same distributions (fail to reject H0, so H0 is accepted)\n"
          ]
        },
        {
          "output_type": "execute_result",
          "data": {
            "text/plain": [
              "(0.03702922099873741, 0.851257245081476)"
            ]
          },
          "metadata": {},
          "execution_count": 134
        }
      ]
    }
  ]
}