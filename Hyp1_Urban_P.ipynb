{
  "nbformat": 4,
  "nbformat_minor": 0,
  "metadata": {
    "colab": {
      "name": "Hyp1_Urban_P.ipynb",
      "provenance": [],
      "collapsed_sections": [],
      "include_colab_link": true
    },
    "kernelspec": {
      "name": "python3",
      "display_name": "Python 3"
    },
    "language_info": {
      "name": "python"
    }
  },
  "cells": [
    {
      "cell_type": "markdown",
      "metadata": {
        "id": "view-in-github",
        "colab_type": "text"
      },
      "source": [
        "<a href=\"https://colab.research.google.com/github/prasngit5/hypothesis_Assign_G4/blob/main/Hyp1_Urban_P.ipynb\" target=\"_parent\"><img src=\"https://colab.research.google.com/assets/colab-badge.svg\" alt=\"Open In Colab\"/></a>"
      ]
    },
    {
      "cell_type": "code",
      "metadata": {
        "colab": {
          "base_uri": "https://localhost:8080/"
        },
        "id": "crJ6y7B9qx8S",
        "outputId": "8bc51033-4a56-4b65-9b1c-a29c7ea348da"
      },
      "source": [
        "%cd /content/drive/MyDrive/git_folder"
      ],
      "execution_count": 148,
      "outputs": [
        {
          "output_type": "stream",
          "name": "stdout",
          "text": [
            "/content/drive/MyDrive/git_folder\n"
          ]
        }
      ]
    },
    {
      "cell_type": "code",
      "metadata": {
        "colab": {
          "base_uri": "https://localhost:8080/",
          "height": 35
        },
        "id": "p1QoJbpQsAg9",
        "outputId": "ae60d115-636d-4a1c-c7cd-364b2058e967"
      },
      "source": [
        "%pwd"
      ],
      "execution_count": 149,
      "outputs": [
        {
          "output_type": "execute_result",
          "data": {
            "application/vnd.google.colaboratory.intrinsic+json": {
              "type": "string"
            },
            "text/plain": [
              "'/content/drive/MyDrive/git_folder'"
            ]
          },
          "metadata": {},
          "execution_count": 149
        }
      ]
    },
    {
      "cell_type": "code",
      "metadata": {
        "colab": {
          "base_uri": "https://localhost:8080/"
        },
        "id": "h98FrAAm8qa1",
        "outputId": "65a0ef3b-f11d-4796-bb3b-9e2cc7846b17"
      },
      "source": [
        "!git init"
      ],
      "execution_count": 150,
      "outputs": [
        {
          "output_type": "stream",
          "name": "stdout",
          "text": [
            "Reinitialized existing Git repository in /content/drive/My Drive/git_folder/.git/\n"
          ]
        }
      ]
    },
    {
      "cell_type": "code",
      "metadata": {
        "colab": {
          "base_uri": "https://localhost:8080/"
        },
        "id": "nL4FM74dIwGi",
        "outputId": "72b6a725-ccee-432c-bd13-40c450dd6e46"
      },
      "source": [
        "#!git clone https://github.com/hyp-G-4/H-G-4.git"
      ],
      "execution_count": 151,
      "outputs": [
        {
          "output_type": "stream",
          "name": "stdout",
          "text": [
            "Cloning into 'H-G-4'...\n",
            "fatal: could not read Username for 'https://github.com': No such device or address\n"
          ]
        }
      ]
    },
    {
      "cell_type": "code",
      "metadata": {
        "colab": {
          "base_uri": "https://localhost:8080/"
        },
        "id": "QjDO4bkE_1NL",
        "outputId": "f9ac2b83-97f9-411b-a23f-3958e8882f7a"
      },
      "source": [
        "!git remote add origin https://github.com/hyp-G-4/H-G-4.git"
      ],
      "execution_count": 152,
      "outputs": [
        {
          "output_type": "stream",
          "name": "stdout",
          "text": [
            "fatal: remote origin already exists.\n"
          ]
        }
      ]
    },
    {
      "cell_type": "code",
      "metadata": {
        "colab": {
          "base_uri": "https://localhost:8080/"
        },
        "id": "mAMTtvS9_6kS",
        "outputId": "e12bce40-96a0-4e7e-a331-7d00579b1b29"
      },
      "source": [
        "!git remote -v"
      ],
      "execution_count": 154,
      "outputs": [
        {
          "output_type": "stream",
          "name": "stdout",
          "text": [
            "origin\thttps://github.com/hyp-G-4/H-G-4.git (fetch)\n",
            "origin\thttps://github.com/hyp-G-4/H-G-4.git (push)\n"
          ]
        }
      ]
    },
    {
      "cell_type": "code",
      "metadata": {
        "id": "X1DUr81MAB4a"
      },
      "source": [
        ""
      ],
      "execution_count": 81,
      "outputs": []
    },
    {
      "cell_type": "code",
      "metadata": {
        "id": "fDACipTw9B-M"
      },
      "source": [
        "!git config   user.email \"snethala@islander.tamucc.edu\"\n",
        "!git config   user.name \"prasad\""
      ],
      "execution_count": 156,
      "outputs": []
    },
    {
      "cell_type": "code",
      "metadata": {
        "id": "W40wYMUK_1zt"
      },
      "source": [
        "!git add ."
      ],
      "execution_count": 157,
      "outputs": []
    },
    {
      "cell_type": "code",
      "metadata": {
        "colab": {
          "base_uri": "https://localhost:8080/"
        },
        "id": "mnUxkgFZ__Jm",
        "outputId": "7c33d326-c84a-47ae-caae-193bb27d75c4"
      },
      "source": [
        "!git commit -m \"first commit\""
      ],
      "execution_count": 158,
      "outputs": [
        {
          "output_type": "stream",
          "name": "stdout",
          "text": [
            "On branch master\n",
            "\n",
            "Initial commit\n",
            "\n",
            "nothing to commit\n"
          ]
        }
      ]
    },
    {
      "cell_type": "code",
      "metadata": {
        "id": "XASoUBRpAXW4"
      },
      "source": [
        "#!git branch -M main"
      ],
      "execution_count": 85,
      "outputs": []
    },
    {
      "cell_type": "code",
      "metadata": {
        "id": "0-SQzTAy8tqP"
      },
      "source": [
        "#!git push -u origin master"
      ],
      "execution_count": 86,
      "outputs": []
    },
    {
      "cell_type": "code",
      "metadata": {
        "id": "LBwGxSN39kNc"
      },
      "source": [
        ""
      ],
      "execution_count": 86,
      "outputs": []
    },
    {
      "cell_type": "code",
      "metadata": {
        "id": "kM4SS53PVVyS"
      },
      "source": [
        "import pandas as pd\n",
        "import numpy as np\n",
        "import matplotlib.pyplot as plt\n",
        "%matplotlib inline"
      ],
      "execution_count": 87,
      "outputs": []
    },
    {
      "cell_type": "code",
      "metadata": {
        "id": "v9Hs-P27VfmA"
      },
      "source": [
        "uc1= [ \"Bell\",\"Bexar\",\"Brazoria\",\"Brazos\",\"Cameron\",\"Chambers\",\"Collin\",\"Comal\",\"Dallas\",\"Denton\",\"El Paso\",\"Fort Bend\",\"Galveston\",\"Grayson\",\"Harris\",\"Hays\",\"Hidalgo\",\"Jefferson\",\"Johnson\",\n",
        "      \"Kaufman\",\"Lubbock\",\"McLennan\",\"Midland\",\"Nueces\",\"Potter\",\"Randall\",\"Rockwall\",\"San Patricio\",\"Smith\",\"Tarrant\",\"Travis\",\"Webb\",\"Williamson\",\"Wise\"]"
      ],
      "execution_count": 88,
      "outputs": []
    },
    {
      "cell_type": "code",
      "metadata": {
        "id": "86fBIoDbVgeI"
      },
      "source": [
        "Urban_counties = [ \"Bell County\",\"Bexar County\",\"Brazoria County\",\"Brazos County\",\"Cameron County\",\"Chambers County\",\"Collin County\",\n",
        "                  \"Comal County\",\"Dallas County\",\"Denton County\",\"El Paso County\",\"Fort Bend County\",\"Galveston County\",\"Grayson County\",\"Harris County\",\"Hays County\",\"Hidalgo County\",\"Jefferson County\",\"Johnson County\",\n",
        "                  \"Kaufman County\",\"Lubbock County\",\"McLennan County\",\"Midland County\",\"Nueces County\",\"Potter County\",\n",
        "                  \"Randall County\",\"Rockwall County\",\"San Patricio County\",\"Smith County\",\"Tarrant County\",\"Travis County\",\"Webb County\",\"Williamson County\",\"Wise County\"]"
      ],
      "execution_count": 89,
      "outputs": []
    },
    {
      "cell_type": "code",
      "metadata": {
        "id": "AhfgHlH7wN90"
      },
      "source": [
        "#print(uc1==Urban_counties)"
      ],
      "execution_count": 90,
      "outputs": []
    },
    {
      "cell_type": "code",
      "metadata": {
        "colab": {
          "base_uri": "https://localhost:8080/",
          "height": 455
        },
        "id": "92YLO0CJVlGW",
        "outputId": "e8c0f7ce-b09b-4021-924c-1bd76a76d601"
      },
      "source": [
        "import requests\n",
        "response = requests.get(\"https://en.wikipedia.org/wiki/List_of_counties_in_Texas\")\n",
        "#cl= ['Smith County','Orange County','Nueces County','Young County','Shelby County','Irion County','Navarro County','Galveston County','Harris County','Parker County']\n",
        "#ncl = ['Smith','Orange','Nueces','Young','Shelby','Irion','Navarro','Galveston','Harris','Parker']\n",
        "d = pd.read_html(response.text)\n",
        "d = d[1]\n",
        "d.columns=['County Name','fips','cs','est','o','e','Population','a','m']\n",
        "d = d[['County Name','Population']]\n",
        "df = d.set_index('County Name')\n",
        "#ud = df.loc[Urban_counties]\n",
        "#ud['County Name'] = uc1\n",
        "##ud['County'] = uc1\n",
        "##ud = ud.set_index('County')\n",
        "##ud\n",
        "#c_pop = d.loc[cl]\n",
        "#c_pop['Population'][0]\n",
        "#c_pop = ud\n",
        "#c_pop\n",
        "df"
      ],
      "execution_count": 91,
      "outputs": [
        {
          "output_type": "execute_result",
          "data": {
            "text/html": [
              "<div>\n",
              "<style scoped>\n",
              "    .dataframe tbody tr th:only-of-type {\n",
              "        vertical-align: middle;\n",
              "    }\n",
              "\n",
              "    .dataframe tbody tr th {\n",
              "        vertical-align: top;\n",
              "    }\n",
              "\n",
              "    .dataframe thead th {\n",
              "        text-align: right;\n",
              "    }\n",
              "</style>\n",
              "<table border=\"1\" class=\"dataframe\">\n",
              "  <thead>\n",
              "    <tr style=\"text-align: right;\">\n",
              "      <th></th>\n",
              "      <th>Population</th>\n",
              "    </tr>\n",
              "    <tr>\n",
              "      <th>County Name</th>\n",
              "      <th></th>\n",
              "    </tr>\n",
              "  </thead>\n",
              "  <tbody>\n",
              "    <tr>\n",
              "      <th>Anderson County</th>\n",
              "      <td>57922</td>\n",
              "    </tr>\n",
              "    <tr>\n",
              "      <th>Andrews County</th>\n",
              "      <td>18610</td>\n",
              "    </tr>\n",
              "    <tr>\n",
              "      <th>Angelina County</th>\n",
              "      <td>86395</td>\n",
              "    </tr>\n",
              "    <tr>\n",
              "      <th>Aransas County</th>\n",
              "      <td>23830</td>\n",
              "    </tr>\n",
              "    <tr>\n",
              "      <th>Archer County</th>\n",
              "      <td>8560</td>\n",
              "    </tr>\n",
              "    <tr>\n",
              "      <th>...</th>\n",
              "      <td>...</td>\n",
              "    </tr>\n",
              "    <tr>\n",
              "      <th>Wood County</th>\n",
              "      <td>44843</td>\n",
              "    </tr>\n",
              "    <tr>\n",
              "      <th>Yoakum County</th>\n",
              "      <td>7694</td>\n",
              "    </tr>\n",
              "    <tr>\n",
              "      <th>Young County</th>\n",
              "      <td>17867</td>\n",
              "    </tr>\n",
              "    <tr>\n",
              "      <th>Zapata County</th>\n",
              "      <td>13889</td>\n",
              "    </tr>\n",
              "    <tr>\n",
              "      <th>Zavala County</th>\n",
              "      <td>9670</td>\n",
              "    </tr>\n",
              "  </tbody>\n",
              "</table>\n",
              "<p>254 rows × 1 columns</p>\n",
              "</div>"
            ],
            "text/plain": [
              "                 Population\n",
              "County Name                \n",
              "Anderson County       57922\n",
              "Andrews County        18610\n",
              "Angelina County       86395\n",
              "Aransas County        23830\n",
              "Archer County          8560\n",
              "...                     ...\n",
              "Wood County           44843\n",
              "Yoakum County          7694\n",
              "Young County          17867\n",
              "Zapata County         13889\n",
              "Zavala County          9670\n",
              "\n",
              "[254 rows x 1 columns]"
            ]
          },
          "metadata": {},
          "execution_count": 91
        }
      ]
    },
    {
      "cell_type": "code",
      "metadata": {
        "id": "h1Mluh_RNpeB"
      },
      "source": [
        ""
      ],
      "execution_count": 91,
      "outputs": []
    },
    {
      "cell_type": "code",
      "metadata": {
        "colab": {
          "base_uri": "https://localhost:8080/"
        },
        "id": "J0geM7Z_aFNq",
        "outputId": "bff64d96-490f-4752-9d29-901ff0ae91c5"
      },
      "source": [
        "df_to_list = df.index.values.tolist() #changes county column to a list\n",
        "print(\"totla list\",len(df_to_list),df_to_list)\n",
        "set(Urban_counties).issubset(df_to_list) #checks to confirm that new_urbna is a subset of the county column\n",
        "(list(set(df_to_list).difference(Urban_counties))) #get the difference between them to get rural counties\n",
        "rural_list = set(df_to_list).difference(Urban_counties)\n",
        "print(\"rural_list\",len(rural_list),rural_list)\n",
        "print(\"Urban_counties\",len(Urban_counties),Urban_counties)\n",
        "\n",
        "\n",
        "y = ~df.index.isin([ \"Bell County\",\"Bexar County\",\"Brazoria County\",\"Brazos County\",\"Cameron County\",\"Chambers County\",\"Collin County\",\n",
        "                  \"Comal County\",\"Dallas County\",\"Denton County\",\"El Paso County\",\"Fort Bend County\",\"Galveston County\",\"Grayson County\",\"Harris County\",\"Hays County\",\"Hidalgo County\",\"Jefferson County\",\"Johnson County\",\n",
        "                  \"Kaufman County\",\"Lubbock County\",\"McLennan County\",\"Midland County\",\"Nueces County\",\"Potter County\",\n",
        "                  \"Randall County\",\"Rockwall County\",\"San Patricio County\",\"Smith County\",\"Tarrant County\",\"Travis County\",\"Webb County\",\"Williamson County\",\"Wise County\"])\n",
        "rrll = df.loc[y].index.values.tolist()\n",
        "print('rrll',len(rrll),rrll)\n"
      ],
      "execution_count": 92,
      "outputs": [
        {
          "output_type": "stream",
          "name": "stdout",
          "text": [
            "totla list 254 ['Anderson County', 'Andrews County', 'Angelina County', 'Aransas County', 'Archer County', 'Armstrong County', 'Atascosa County', 'Austin County', 'Bailey County', 'Bandera County', 'Bastrop County', 'Baylor County', 'Bee County', 'Bell County', 'Bexar County', 'Blanco County', 'Borden County', 'Bosque County', 'Bowie County', 'Brazoria County', 'Brazos County', 'Brewster County', 'Briscoe County', 'Brooks County', 'Brown County', 'Burleson County', 'Burnet County', 'Caldwell County', 'Calhoun County', 'Callahan County', 'Cameron County', 'Camp County', 'Carson County', 'Cass County', 'Castro County', 'Chambers County', 'Cherokee County', 'Childress County', 'Clay County', 'Cochran County', 'Coke County', 'Coleman County', 'Collin County', 'Collingsworth County', 'Colorado County', 'Comal County', 'Comanche County', 'Concho County', 'Cooke County', 'Coryell County', 'Cottle County', 'Crane County', 'Crockett County', 'Crosby County', 'Culberson County', 'Dallam County', 'Dallas County', 'Dawson County', 'Deaf Smith County', 'Delta County', 'Denton County', 'DeWitt County', 'Dickens County', 'Dimmit County', 'Donley County', 'Duval County', 'Eastland County', 'Ector County', 'Edwards County', 'Ellis County', 'El Paso County', 'Erath County', 'Falls County', 'Fannin County', 'Fayette County', 'Fisher County', 'Floyd County', 'Foard County', 'Fort Bend County', 'Franklin County', 'Freestone County', 'Frio County', 'Gaines County', 'Galveston County', 'Garza County', 'Gillespie County', 'Glasscock County', 'Goliad County', 'Gonzales County', 'Gray County', 'Grayson County', 'Gregg County', 'Grimes County', 'Guadalupe County', 'Hale County', 'Hall County', 'Hamilton County', 'Hansford County', 'Hardeman County', 'Hardin County', 'Harris County', 'Harrison County', 'Hartley County', 'Haskell County', 'Hays County', 'Hemphill County', 'Henderson County', 'Hidalgo County', 'Hill County', 'Hockley County', 'Hood County', 'Hopkins County', 'Houston County', 'Howard County', 'Hudspeth County', 'Hunt County', 'Hutchinson County', 'Irion County', 'Jack County', 'Jackson County', 'Jasper County', 'Jeff Davis County', 'Jefferson County', 'Jim Hogg County', 'Jim Wells County', 'Johnson County', 'Jones County', 'Karnes County', 'Kaufman County', 'Kendall County', 'Kenedy County', 'Kent County', 'Kerr County', 'Kimble County', 'King County', 'Kinney County', 'Kleberg County', 'Knox County', 'Lamar County', 'Lamb County', 'Lampasas County', 'La Salle County', 'Lavaca County', 'Lee County', 'Leon County', 'Liberty County', 'Limestone County', 'Lipscomb County', 'Live Oak County', 'Llano County', 'Loving County', 'Lubbock County', 'Lynn County', 'McCulloch County', 'McLennan County', 'McMullen County', 'Madison County', 'Marion County', 'Martin County', 'Mason County', 'Matagorda County', 'Maverick County', 'Medina County', 'Menard County', 'Midland County', 'Milam County', 'Mills County', 'Mitchell County', 'Montague County', 'Montgomery County', 'Moore County', 'Morris County', 'Motley County', 'Nacogdoches County', 'Navarro County', 'Newton County', 'Nolan County', 'Nueces County', 'Ochiltree County', 'Oldham County', 'Orange County', 'Palo Pinto County', 'Panola County', 'Parker County', 'Parmer County', 'Pecos County', 'Polk County', 'Potter County', 'Presidio County', 'Rains County', 'Randall County', 'Reagan County', 'Real County', 'Red River County', 'Reeves County', 'Refugio County', 'Roberts County', 'Robertson County', 'Rockwall County', 'Runnels County', 'Rusk County', 'Sabine County', 'San Augustine County', 'San Jacinto County', 'San Patricio County', 'San Saba County', 'Schleicher County', 'Scurry County', 'Shackelford County', 'Shelby County', 'Sherman County', 'Smith County', 'Somervell County', 'Starr County', 'Stephens County', 'Sterling County', 'Stonewall County', 'Sutton County', 'Swisher County', 'Tarrant County', 'Taylor County', 'Terrell County', 'Terry County', 'Throckmorton County', 'Titus County', 'Tom Green County', 'Travis County', 'Trinity County', 'Tyler County', 'Upshur County', 'Upton County', 'Uvalde County', 'Val Verde County', 'Van Zandt County', 'Victoria County', 'Walker County', 'Waller County', 'Ward County', 'Washington County', 'Webb County', 'Wharton County', 'Wheeler County', 'Wichita County', 'Wilbarger County', 'Willacy County', 'Williamson County', 'Wilson County', 'Winkler County', 'Wise County', 'Wood County', 'Yoakum County', 'Young County', 'Zapata County', 'Zavala County']\n",
            "rural_list 220 {'Hill County', 'Wharton County', 'Lee County', 'Hudspeth County', 'Upshur County', 'Coke County', 'Floyd County', 'Liberty County', 'Mills County', 'Sterling County', 'Gray County', 'Parmer County', 'Guadalupe County', 'Val Verde County', 'Yoakum County', 'Zavala County', 'Waller County', 'Fisher County', 'Gonzales County', 'Knox County', 'Lynn County', 'Austin County', 'Menard County', 'Washington County', 'Young County', 'Blanco County', 'Cherokee County', 'Ward County', 'Navarro County', 'Reeves County', 'Tyler County', 'Kinney County', 'Brooks County', 'Loving County', 'Stephens County', 'Tom Green County', 'Lavaca County', 'Red River County', 'Rusk County', 'Franklin County', 'Houston County', 'Coleman County', 'Mitchell County', 'Cooke County', 'Robertson County', 'Childress County', 'Willacy County', 'Motley County', 'Hamilton County', 'Kent County', 'Sutton County', 'McMullen County', 'Cottle County', 'San Jacinto County', 'Bosque County', 'Burnet County', 'Hale County', 'Live Oak County', 'Oldham County', 'Wilson County', 'Armstrong County', 'Wheeler County', 'Bandera County', 'Fannin County', 'McCulloch County', 'Nacogdoches County', 'Uvalde County', 'Wood County', 'Refugio County', 'Erath County', 'Camp County', 'San Augustine County', 'Burleson County', 'Delta County', 'Lamb County', 'Anderson County', 'Bastrop County', 'Somervell County', 'Collingsworth County', 'Culberson County', 'Presidio County', 'Ellis County', 'Deaf Smith County', 'Carson County', 'Jones County', 'Hardeman County', 'Montgomery County', 'Glasscock County', 'Coryell County', 'Dallam County', 'Briscoe County', 'Comanche County', 'Lamar County', 'Swisher County', 'Aransas County', 'Newton County', 'Hemphill County', 'Schleicher County', 'Cochran County', 'Polk County', 'Sabine County', 'Dimmit County', 'Fayette County', 'Hockley County', 'Madison County', 'Shackelford County', 'Colorado County', 'Brown County', 'Henderson County', 'Moore County', 'Howard County', 'Matagorda County', 'Throckmorton County', 'Zapata County', 'Kendall County', 'Scurry County', 'Hansford County', 'Milam County', 'Cass County', 'Wichita County', 'Orange County', 'Hardin County', 'Panola County', 'Rains County', 'Limestone County', 'Palo Pinto County', 'Atascosa County', 'DeWitt County', 'Jeff Davis County', 'Caldwell County', 'Jasper County', 'Sherman County', 'Crane County', 'Bee County', 'Duval County', 'Gaines County', 'Winkler County', 'Gillespie County', 'Hartley County', 'King County', 'Walker County', 'Callahan County', 'Calhoun County', 'Borden County', 'Reagan County', 'Runnels County', 'Hunt County', 'Parker County', 'Starr County', 'Hood County', 'Marion County', 'Gregg County', 'Mason County', 'Eastland County', 'Crosby County', 'Ector County', 'Foard County', 'La Salle County', 'Llano County', 'Medina County', 'Garza County', 'Terrell County', 'Bailey County', 'Jack County', 'Clay County', 'Lipscomb County', 'Andrews County', 'Harrison County', 'Dawson County', 'Morris County', 'Roberts County', 'Frio County', 'Shelby County', 'Haskell County', 'Stonewall County', 'Ochiltree County', 'Goliad County', 'Victoria County', 'Wilbarger County', 'Maverick County', 'Nolan County', 'Real County', 'Kerr County', 'Trinity County', 'Edwards County', 'Lampasas County', 'Hutchinson County', 'Karnes County', 'Martin County', 'Irion County', 'Donley County', 'Freestone County', 'Kimble County', 'Leon County', 'Upton County', 'Montague County', 'Grimes County', 'Concho County', 'Baylor County', 'Taylor County', 'Kenedy County', 'Brewster County', 'Jackson County', 'Terry County', 'Titus County', 'Angelina County', 'Archer County', 'Bowie County', 'Castro County', 'Hopkins County', 'Crockett County', 'Hall County', 'Jim Wells County', 'San Saba County', 'Dickens County', 'Pecos County', 'Falls County', 'Kleberg County', 'Jim Hogg County', 'Van Zandt County'}\n",
            "Urban_counties 34 ['Bell County', 'Bexar County', 'Brazoria County', 'Brazos County', 'Cameron County', 'Chambers County', 'Collin County', 'Comal County', 'Dallas County', 'Denton County', 'El Paso County', 'Fort Bend County', 'Galveston County', 'Grayson County', 'Harris County', 'Hays County', 'Hidalgo County', 'Jefferson County', 'Johnson County', 'Kaufman County', 'Lubbock County', 'McLennan County', 'Midland County', 'Nueces County', 'Potter County', 'Randall County', 'Rockwall County', 'San Patricio County', 'Smith County', 'Tarrant County', 'Travis County', 'Webb County', 'Williamson County', 'Wise County']\n",
            "rrll 220 ['Anderson County', 'Andrews County', 'Angelina County', 'Aransas County', 'Archer County', 'Armstrong County', 'Atascosa County', 'Austin County', 'Bailey County', 'Bandera County', 'Bastrop County', 'Baylor County', 'Bee County', 'Blanco County', 'Borden County', 'Bosque County', 'Bowie County', 'Brewster County', 'Briscoe County', 'Brooks County', 'Brown County', 'Burleson County', 'Burnet County', 'Caldwell County', 'Calhoun County', 'Callahan County', 'Camp County', 'Carson County', 'Cass County', 'Castro County', 'Cherokee County', 'Childress County', 'Clay County', 'Cochran County', 'Coke County', 'Coleman County', 'Collingsworth County', 'Colorado County', 'Comanche County', 'Concho County', 'Cooke County', 'Coryell County', 'Cottle County', 'Crane County', 'Crockett County', 'Crosby County', 'Culberson County', 'Dallam County', 'Dawson County', 'Deaf Smith County', 'Delta County', 'DeWitt County', 'Dickens County', 'Dimmit County', 'Donley County', 'Duval County', 'Eastland County', 'Ector County', 'Edwards County', 'Ellis County', 'Erath County', 'Falls County', 'Fannin County', 'Fayette County', 'Fisher County', 'Floyd County', 'Foard County', 'Franklin County', 'Freestone County', 'Frio County', 'Gaines County', 'Garza County', 'Gillespie County', 'Glasscock County', 'Goliad County', 'Gonzales County', 'Gray County', 'Gregg County', 'Grimes County', 'Guadalupe County', 'Hale County', 'Hall County', 'Hamilton County', 'Hansford County', 'Hardeman County', 'Hardin County', 'Harrison County', 'Hartley County', 'Haskell County', 'Hemphill County', 'Henderson County', 'Hill County', 'Hockley County', 'Hood County', 'Hopkins County', 'Houston County', 'Howard County', 'Hudspeth County', 'Hunt County', 'Hutchinson County', 'Irion County', 'Jack County', 'Jackson County', 'Jasper County', 'Jeff Davis County', 'Jim Hogg County', 'Jim Wells County', 'Jones County', 'Karnes County', 'Kendall County', 'Kenedy County', 'Kent County', 'Kerr County', 'Kimble County', 'King County', 'Kinney County', 'Kleberg County', 'Knox County', 'Lamar County', 'Lamb County', 'Lampasas County', 'La Salle County', 'Lavaca County', 'Lee County', 'Leon County', 'Liberty County', 'Limestone County', 'Lipscomb County', 'Live Oak County', 'Llano County', 'Loving County', 'Lynn County', 'McCulloch County', 'McMullen County', 'Madison County', 'Marion County', 'Martin County', 'Mason County', 'Matagorda County', 'Maverick County', 'Medina County', 'Menard County', 'Milam County', 'Mills County', 'Mitchell County', 'Montague County', 'Montgomery County', 'Moore County', 'Morris County', 'Motley County', 'Nacogdoches County', 'Navarro County', 'Newton County', 'Nolan County', 'Ochiltree County', 'Oldham County', 'Orange County', 'Palo Pinto County', 'Panola County', 'Parker County', 'Parmer County', 'Pecos County', 'Polk County', 'Presidio County', 'Rains County', 'Reagan County', 'Real County', 'Red River County', 'Reeves County', 'Refugio County', 'Roberts County', 'Robertson County', 'Runnels County', 'Rusk County', 'Sabine County', 'San Augustine County', 'San Jacinto County', 'San Saba County', 'Schleicher County', 'Scurry County', 'Shackelford County', 'Shelby County', 'Sherman County', 'Somervell County', 'Starr County', 'Stephens County', 'Sterling County', 'Stonewall County', 'Sutton County', 'Swisher County', 'Taylor County', 'Terrell County', 'Terry County', 'Throckmorton County', 'Titus County', 'Tom Green County', 'Trinity County', 'Tyler County', 'Upshur County', 'Upton County', 'Uvalde County', 'Val Verde County', 'Van Zandt County', 'Victoria County', 'Walker County', 'Waller County', 'Ward County', 'Washington County', 'Wharton County', 'Wheeler County', 'Wichita County', 'Wilbarger County', 'Willacy County', 'Wilson County', 'Winkler County', 'Wood County', 'Yoakum County', 'Young County', 'Zapata County', 'Zavala County']\n"
          ]
        }
      ]
    },
    {
      "cell_type": "code",
      "metadata": {
        "colab": {
          "base_uri": "https://localhost:8080/",
          "height": 455
        },
        "id": "HOtvC1jJhWlV",
        "outputId": "bfb2f723-2662-4133-f34f-f5e06fa4fc56"
      },
      "source": [
        "#y = ~df.index.isin([])\n",
        "rdd = df.loc[rrll]\n",
        "rdd"
      ],
      "execution_count": 93,
      "outputs": [
        {
          "output_type": "execute_result",
          "data": {
            "text/html": [
              "<div>\n",
              "<style scoped>\n",
              "    .dataframe tbody tr th:only-of-type {\n",
              "        vertical-align: middle;\n",
              "    }\n",
              "\n",
              "    .dataframe tbody tr th {\n",
              "        vertical-align: top;\n",
              "    }\n",
              "\n",
              "    .dataframe thead th {\n",
              "        text-align: right;\n",
              "    }\n",
              "</style>\n",
              "<table border=\"1\" class=\"dataframe\">\n",
              "  <thead>\n",
              "    <tr style=\"text-align: right;\">\n",
              "      <th></th>\n",
              "      <th>Population</th>\n",
              "    </tr>\n",
              "    <tr>\n",
              "      <th>County Name</th>\n",
              "      <th></th>\n",
              "    </tr>\n",
              "  </thead>\n",
              "  <tbody>\n",
              "    <tr>\n",
              "      <th>Anderson County</th>\n",
              "      <td>57922</td>\n",
              "    </tr>\n",
              "    <tr>\n",
              "      <th>Andrews County</th>\n",
              "      <td>18610</td>\n",
              "    </tr>\n",
              "    <tr>\n",
              "      <th>Angelina County</th>\n",
              "      <td>86395</td>\n",
              "    </tr>\n",
              "    <tr>\n",
              "      <th>Aransas County</th>\n",
              "      <td>23830</td>\n",
              "    </tr>\n",
              "    <tr>\n",
              "      <th>Archer County</th>\n",
              "      <td>8560</td>\n",
              "    </tr>\n",
              "    <tr>\n",
              "      <th>...</th>\n",
              "      <td>...</td>\n",
              "    </tr>\n",
              "    <tr>\n",
              "      <th>Wood County</th>\n",
              "      <td>44843</td>\n",
              "    </tr>\n",
              "    <tr>\n",
              "      <th>Yoakum County</th>\n",
              "      <td>7694</td>\n",
              "    </tr>\n",
              "    <tr>\n",
              "      <th>Young County</th>\n",
              "      <td>17867</td>\n",
              "    </tr>\n",
              "    <tr>\n",
              "      <th>Zapata County</th>\n",
              "      <td>13889</td>\n",
              "    </tr>\n",
              "    <tr>\n",
              "      <th>Zavala County</th>\n",
              "      <td>9670</td>\n",
              "    </tr>\n",
              "  </tbody>\n",
              "</table>\n",
              "<p>220 rows × 1 columns</p>\n",
              "</div>"
            ],
            "text/plain": [
              "                 Population\n",
              "County Name                \n",
              "Anderson County       57922\n",
              "Andrews County        18610\n",
              "Angelina County       86395\n",
              "Aransas County        23830\n",
              "Archer County          8560\n",
              "...                     ...\n",
              "Wood County           44843\n",
              "Yoakum County          7694\n",
              "Young County          17867\n",
              "Zapata County         13889\n",
              "Zavala County          9670\n",
              "\n",
              "[220 rows x 1 columns]"
            ]
          },
          "metadata": {},
          "execution_count": 93
        }
      ]
    },
    {
      "cell_type": "markdown",
      "metadata": {
        "id": "Rr4XiIelrAgl"
      },
      "source": [
        "URBAN"
      ]
    },
    {
      "cell_type": "code",
      "metadata": {
        "colab": {
          "base_uri": "https://localhost:8080/",
          "height": 1000
        },
        "id": "zMZaDaTiq_5O",
        "outputId": "da14c6b9-bd59-465a-fe95-7c6f96396a48"
      },
      "source": [
        "udd = df.loc[Urban_counties]\n",
        "udd"
      ],
      "execution_count": 94,
      "outputs": [
        {
          "output_type": "execute_result",
          "data": {
            "text/html": [
              "<div>\n",
              "<style scoped>\n",
              "    .dataframe tbody tr th:only-of-type {\n",
              "        vertical-align: middle;\n",
              "    }\n",
              "\n",
              "    .dataframe tbody tr th {\n",
              "        vertical-align: top;\n",
              "    }\n",
              "\n",
              "    .dataframe thead th {\n",
              "        text-align: right;\n",
              "    }\n",
              "</style>\n",
              "<table border=\"1\" class=\"dataframe\">\n",
              "  <thead>\n",
              "    <tr style=\"text-align: right;\">\n",
              "      <th></th>\n",
              "      <th>Population</th>\n",
              "    </tr>\n",
              "    <tr>\n",
              "      <th>County Name</th>\n",
              "      <th></th>\n",
              "    </tr>\n",
              "  </thead>\n",
              "  <tbody>\n",
              "    <tr>\n",
              "      <th>Bell County</th>\n",
              "      <td>370647</td>\n",
              "    </tr>\n",
              "    <tr>\n",
              "      <th>Bexar County</th>\n",
              "      <td>2009324</td>\n",
              "    </tr>\n",
              "    <tr>\n",
              "      <th>Brazoria County</th>\n",
              "      <td>372031</td>\n",
              "    </tr>\n",
              "    <tr>\n",
              "      <th>Brazos County</th>\n",
              "      <td>233849</td>\n",
              "    </tr>\n",
              "    <tr>\n",
              "      <th>Cameron County</th>\n",
              "      <td>421017</td>\n",
              "    </tr>\n",
              "    <tr>\n",
              "      <th>Chambers County</th>\n",
              "      <td>46571</td>\n",
              "    </tr>\n",
              "    <tr>\n",
              "      <th>Collin County</th>\n",
              "      <td>1064465</td>\n",
              "    </tr>\n",
              "    <tr>\n",
              "      <th>Comal County</th>\n",
              "      <td>161501</td>\n",
              "    </tr>\n",
              "    <tr>\n",
              "      <th>Dallas County</th>\n",
              "      <td>2613539</td>\n",
              "    </tr>\n",
              "    <tr>\n",
              "      <th>Denton County</th>\n",
              "      <td>906422</td>\n",
              "    </tr>\n",
              "    <tr>\n",
              "      <th>El Paso County</th>\n",
              "      <td>865657</td>\n",
              "    </tr>\n",
              "    <tr>\n",
              "      <th>Fort Bend County</th>\n",
              "      <td>822779</td>\n",
              "    </tr>\n",
              "    <tr>\n",
              "      <th>Galveston County</th>\n",
              "      <td>350682</td>\n",
              "    </tr>\n",
              "    <tr>\n",
              "      <th>Grayson County</th>\n",
              "      <td>135543</td>\n",
              "    </tr>\n",
              "    <tr>\n",
              "      <th>Harris County</th>\n",
              "      <td>4731145</td>\n",
              "    </tr>\n",
              "    <tr>\n",
              "      <th>Hays County</th>\n",
              "      <td>241067</td>\n",
              "    </tr>\n",
              "    <tr>\n",
              "      <th>Hidalgo County</th>\n",
              "      <td>870781</td>\n",
              "    </tr>\n",
              "    <tr>\n",
              "      <th>Jefferson County</th>\n",
              "      <td>256526</td>\n",
              "    </tr>\n",
              "    <tr>\n",
              "      <th>Johnson County</th>\n",
              "      <td>179927</td>\n",
              "    </tr>\n",
              "    <tr>\n",
              "      <th>Kaufman County</th>\n",
              "      <td>145310</td>\n",
              "    </tr>\n",
              "    <tr>\n",
              "      <th>Lubbock County</th>\n",
              "      <td>310639</td>\n",
              "    </tr>\n",
              "    <tr>\n",
              "      <th>McLennan County</th>\n",
              "      <td>260579</td>\n",
              "    </tr>\n",
              "    <tr>\n",
              "      <th>Midland County</th>\n",
              "      <td>169983</td>\n",
              "    </tr>\n",
              "    <tr>\n",
              "      <th>Nueces County</th>\n",
              "      <td>353178</td>\n",
              "    </tr>\n",
              "    <tr>\n",
              "      <th>Potter County</th>\n",
              "      <td>118525</td>\n",
              "    </tr>\n",
              "    <tr>\n",
              "      <th>Randall County</th>\n",
              "      <td>140753</td>\n",
              "    </tr>\n",
              "    <tr>\n",
              "      <th>Rockwall County</th>\n",
              "      <td>107819</td>\n",
              "    </tr>\n",
              "    <tr>\n",
              "      <th>San Patricio County</th>\n",
              "      <td>68755</td>\n",
              "    </tr>\n",
              "    <tr>\n",
              "      <th>Smith County</th>\n",
              "      <td>233479</td>\n",
              "    </tr>\n",
              "    <tr>\n",
              "      <th>Tarrant County</th>\n",
              "      <td>2110640</td>\n",
              "    </tr>\n",
              "    <tr>\n",
              "      <th>Travis County</th>\n",
              "      <td>1290188</td>\n",
              "    </tr>\n",
              "    <tr>\n",
              "      <th>Webb County</th>\n",
              "      <td>267114</td>\n",
              "    </tr>\n",
              "    <tr>\n",
              "      <th>Williamson County</th>\n",
              "      <td>609017</td>\n",
              "    </tr>\n",
              "    <tr>\n",
              "      <th>Wise County</th>\n",
              "      <td>68632</td>\n",
              "    </tr>\n",
              "  </tbody>\n",
              "</table>\n",
              "</div>"
            ],
            "text/plain": [
              "                     Population\n",
              "County Name                    \n",
              "Bell County              370647\n",
              "Bexar County            2009324\n",
              "Brazoria County          372031\n",
              "Brazos County            233849\n",
              "Cameron County           421017\n",
              "Chambers County           46571\n",
              "Collin County           1064465\n",
              "Comal County             161501\n",
              "Dallas County           2613539\n",
              "Denton County            906422\n",
              "El Paso County           865657\n",
              "Fort Bend County         822779\n",
              "Galveston County         350682\n",
              "Grayson County           135543\n",
              "Harris County           4731145\n",
              "Hays County              241067\n",
              "Hidalgo County           870781\n",
              "Jefferson County         256526\n",
              "Johnson County           179927\n",
              "Kaufman County           145310\n",
              "Lubbock County           310639\n",
              "McLennan County          260579\n",
              "Midland County           169983\n",
              "Nueces County            353178\n",
              "Potter County            118525\n",
              "Randall County           140753\n",
              "Rockwall County          107819\n",
              "San Patricio County       68755\n",
              "Smith County             233479\n",
              "Tarrant County          2110640\n",
              "Travis County           1290188\n",
              "Webb County              267114\n",
              "Williamson County        609017\n",
              "Wise County               68632"
            ]
          },
          "metadata": {},
          "execution_count": 94
        }
      ]
    },
    {
      "cell_type": "code",
      "metadata": {
        "colab": {
          "base_uri": "https://localhost:8080/",
          "height": 1000
        },
        "id": "naM4rPD6q02A",
        "outputId": "0bb55cd2-cbe4-47f9-807b-ef041b1b0fb8"
      },
      "source": [
        "new_urban_list = [s.replace(\"County\", \"\") for s in udd.index.values.tolist()]\n",
        "new_urban_list.sort()\n",
        "udd['County'] = new_urban_list\n",
        "udd.set_index('County',inplace=True)\n",
        "udd"
      ],
      "execution_count": 95,
      "outputs": [
        {
          "output_type": "execute_result",
          "data": {
            "text/html": [
              "<div>\n",
              "<style scoped>\n",
              "    .dataframe tbody tr th:only-of-type {\n",
              "        vertical-align: middle;\n",
              "    }\n",
              "\n",
              "    .dataframe tbody tr th {\n",
              "        vertical-align: top;\n",
              "    }\n",
              "\n",
              "    .dataframe thead th {\n",
              "        text-align: right;\n",
              "    }\n",
              "</style>\n",
              "<table border=\"1\" class=\"dataframe\">\n",
              "  <thead>\n",
              "    <tr style=\"text-align: right;\">\n",
              "      <th></th>\n",
              "      <th>Population</th>\n",
              "    </tr>\n",
              "    <tr>\n",
              "      <th>County</th>\n",
              "      <th></th>\n",
              "    </tr>\n",
              "  </thead>\n",
              "  <tbody>\n",
              "    <tr>\n",
              "      <th>Bell</th>\n",
              "      <td>370647</td>\n",
              "    </tr>\n",
              "    <tr>\n",
              "      <th>Bexar</th>\n",
              "      <td>2009324</td>\n",
              "    </tr>\n",
              "    <tr>\n",
              "      <th>Brazoria</th>\n",
              "      <td>372031</td>\n",
              "    </tr>\n",
              "    <tr>\n",
              "      <th>Brazos</th>\n",
              "      <td>233849</td>\n",
              "    </tr>\n",
              "    <tr>\n",
              "      <th>Cameron</th>\n",
              "      <td>421017</td>\n",
              "    </tr>\n",
              "    <tr>\n",
              "      <th>Chambers</th>\n",
              "      <td>46571</td>\n",
              "    </tr>\n",
              "    <tr>\n",
              "      <th>Collin</th>\n",
              "      <td>1064465</td>\n",
              "    </tr>\n",
              "    <tr>\n",
              "      <th>Comal</th>\n",
              "      <td>161501</td>\n",
              "    </tr>\n",
              "    <tr>\n",
              "      <th>Dallas</th>\n",
              "      <td>2613539</td>\n",
              "    </tr>\n",
              "    <tr>\n",
              "      <th>Denton</th>\n",
              "      <td>906422</td>\n",
              "    </tr>\n",
              "    <tr>\n",
              "      <th>El Paso</th>\n",
              "      <td>865657</td>\n",
              "    </tr>\n",
              "    <tr>\n",
              "      <th>Fort Bend</th>\n",
              "      <td>822779</td>\n",
              "    </tr>\n",
              "    <tr>\n",
              "      <th>Galveston</th>\n",
              "      <td>350682</td>\n",
              "    </tr>\n",
              "    <tr>\n",
              "      <th>Grayson</th>\n",
              "      <td>135543</td>\n",
              "    </tr>\n",
              "    <tr>\n",
              "      <th>Harris</th>\n",
              "      <td>4731145</td>\n",
              "    </tr>\n",
              "    <tr>\n",
              "      <th>Hays</th>\n",
              "      <td>241067</td>\n",
              "    </tr>\n",
              "    <tr>\n",
              "      <th>Hidalgo</th>\n",
              "      <td>870781</td>\n",
              "    </tr>\n",
              "    <tr>\n",
              "      <th>Jefferson</th>\n",
              "      <td>256526</td>\n",
              "    </tr>\n",
              "    <tr>\n",
              "      <th>Johnson</th>\n",
              "      <td>179927</td>\n",
              "    </tr>\n",
              "    <tr>\n",
              "      <th>Kaufman</th>\n",
              "      <td>145310</td>\n",
              "    </tr>\n",
              "    <tr>\n",
              "      <th>Lubbock</th>\n",
              "      <td>310639</td>\n",
              "    </tr>\n",
              "    <tr>\n",
              "      <th>McLennan</th>\n",
              "      <td>260579</td>\n",
              "    </tr>\n",
              "    <tr>\n",
              "      <th>Midland</th>\n",
              "      <td>169983</td>\n",
              "    </tr>\n",
              "    <tr>\n",
              "      <th>Nueces</th>\n",
              "      <td>353178</td>\n",
              "    </tr>\n",
              "    <tr>\n",
              "      <th>Potter</th>\n",
              "      <td>118525</td>\n",
              "    </tr>\n",
              "    <tr>\n",
              "      <th>Randall</th>\n",
              "      <td>140753</td>\n",
              "    </tr>\n",
              "    <tr>\n",
              "      <th>Rockwall</th>\n",
              "      <td>107819</td>\n",
              "    </tr>\n",
              "    <tr>\n",
              "      <th>San Patricio</th>\n",
              "      <td>68755</td>\n",
              "    </tr>\n",
              "    <tr>\n",
              "      <th>Smith</th>\n",
              "      <td>233479</td>\n",
              "    </tr>\n",
              "    <tr>\n",
              "      <th>Tarrant</th>\n",
              "      <td>2110640</td>\n",
              "    </tr>\n",
              "    <tr>\n",
              "      <th>Travis</th>\n",
              "      <td>1290188</td>\n",
              "    </tr>\n",
              "    <tr>\n",
              "      <th>Webb</th>\n",
              "      <td>267114</td>\n",
              "    </tr>\n",
              "    <tr>\n",
              "      <th>Williamson</th>\n",
              "      <td>609017</td>\n",
              "    </tr>\n",
              "    <tr>\n",
              "      <th>Wise</th>\n",
              "      <td>68632</td>\n",
              "    </tr>\n",
              "  </tbody>\n",
              "</table>\n",
              "</div>"
            ],
            "text/plain": [
              "               Population\n",
              "County                   \n",
              "Bell               370647\n",
              "Bexar             2009324\n",
              "Brazoria           372031\n",
              "Brazos             233849\n",
              "Cameron            421017\n",
              "Chambers            46571\n",
              "Collin            1064465\n",
              "Comal              161501\n",
              "Dallas            2613539\n",
              "Denton             906422\n",
              "El Paso            865657\n",
              "Fort Bend          822779\n",
              "Galveston          350682\n",
              "Grayson            135543\n",
              "Harris            4731145\n",
              "Hays               241067\n",
              "Hidalgo            870781\n",
              "Jefferson          256526\n",
              "Johnson            179927\n",
              "Kaufman            145310\n",
              "Lubbock            310639\n",
              "McLennan           260579\n",
              "Midland            169983\n",
              "Nueces             353178\n",
              "Potter             118525\n",
              "Randall            140753\n",
              "Rockwall           107819\n",
              "San Patricio        68755\n",
              "Smith              233479\n",
              "Tarrant           2110640\n",
              "Travis            1290188\n",
              "Webb               267114\n",
              "Williamson         609017\n",
              "Wise                68632"
            ]
          },
          "metadata": {},
          "execution_count": 95
        }
      ]
    },
    {
      "cell_type": "markdown",
      "metadata": {
        "id": "dUQp0vvLq-Hk"
      },
      "source": [
        "RURAL"
      ]
    },
    {
      "cell_type": "code",
      "metadata": {
        "colab": {
          "base_uri": "https://localhost:8080/",
          "height": 455
        },
        "id": "FBmQ46RjeMxJ",
        "outputId": "c93c69fa-a799-41fb-97df-de7f1ea6c2aa"
      },
      "source": [
        "new_rural_list = [s.replace(\"County\", \"\") for s in rdd.index.values.tolist()]\n",
        "new_rural_list.sort()\n",
        "n_rc = [x.strip(' ') for x in new_rural_list]\n",
        "rdd['County'] = n_rc\n",
        "rdd.set_index('County',inplace=True)\n",
        "rdd.index\n",
        "rdd"
      ],
      "execution_count": 96,
      "outputs": [
        {
          "output_type": "execute_result",
          "data": {
            "text/html": [
              "<div>\n",
              "<style scoped>\n",
              "    .dataframe tbody tr th:only-of-type {\n",
              "        vertical-align: middle;\n",
              "    }\n",
              "\n",
              "    .dataframe tbody tr th {\n",
              "        vertical-align: top;\n",
              "    }\n",
              "\n",
              "    .dataframe thead th {\n",
              "        text-align: right;\n",
              "    }\n",
              "</style>\n",
              "<table border=\"1\" class=\"dataframe\">\n",
              "  <thead>\n",
              "    <tr style=\"text-align: right;\">\n",
              "      <th></th>\n",
              "      <th>Population</th>\n",
              "    </tr>\n",
              "    <tr>\n",
              "      <th>County</th>\n",
              "      <th></th>\n",
              "    </tr>\n",
              "  </thead>\n",
              "  <tbody>\n",
              "    <tr>\n",
              "      <th>Anderson</th>\n",
              "      <td>57922</td>\n",
              "    </tr>\n",
              "    <tr>\n",
              "      <th>Andrews</th>\n",
              "      <td>18610</td>\n",
              "    </tr>\n",
              "    <tr>\n",
              "      <th>Angelina</th>\n",
              "      <td>86395</td>\n",
              "    </tr>\n",
              "    <tr>\n",
              "      <th>Aransas</th>\n",
              "      <td>23830</td>\n",
              "    </tr>\n",
              "    <tr>\n",
              "      <th>Archer</th>\n",
              "      <td>8560</td>\n",
              "    </tr>\n",
              "    <tr>\n",
              "      <th>...</th>\n",
              "      <td>...</td>\n",
              "    </tr>\n",
              "    <tr>\n",
              "      <th>Wood</th>\n",
              "      <td>44843</td>\n",
              "    </tr>\n",
              "    <tr>\n",
              "      <th>Yoakum</th>\n",
              "      <td>7694</td>\n",
              "    </tr>\n",
              "    <tr>\n",
              "      <th>Young</th>\n",
              "      <td>17867</td>\n",
              "    </tr>\n",
              "    <tr>\n",
              "      <th>Zapata</th>\n",
              "      <td>13889</td>\n",
              "    </tr>\n",
              "    <tr>\n",
              "      <th>Zavala</th>\n",
              "      <td>9670</td>\n",
              "    </tr>\n",
              "  </tbody>\n",
              "</table>\n",
              "<p>220 rows × 1 columns</p>\n",
              "</div>"
            ],
            "text/plain": [
              "          Population\n",
              "County              \n",
              "Anderson       57922\n",
              "Andrews        18610\n",
              "Angelina       86395\n",
              "Aransas        23830\n",
              "Archer          8560\n",
              "...              ...\n",
              "Wood           44843\n",
              "Yoakum          7694\n",
              "Young          17867\n",
              "Zapata         13889\n",
              "Zavala          9670\n",
              "\n",
              "[220 rows x 1 columns]"
            ]
          },
          "metadata": {},
          "execution_count": 96
        }
      ]
    },
    {
      "cell_type": "code",
      "metadata": {
        "id": "B9uS4hTMWWF4"
      },
      "source": [
        "per_c = 100000 # as per requirement from the questionaire(need percapita  per 100K population)\n",
        "\n",
        "def per_capita(r,n):\n",
        "  s = (float(r)/float(n))*per_c\n",
        "  return s"
      ],
      "execution_count": 97,
      "outputs": []
    },
    {
      "cell_type": "code",
      "metadata": {
        "id": "9BOqDB0br2iN"
      },
      "source": [
        ""
      ],
      "execution_count": 97,
      "outputs": []
    },
    {
      "cell_type": "code",
      "metadata": {
        "colab": {
          "base_uri": "https://localhost:8080/",
          "height": 423
        },
        "id": "FAESX5vnVOrq",
        "outputId": "17dc588e-b881-43c9-9ec5-57113d75c050"
      },
      "source": [
        "url1 = \"https://www.dshs.texas.gov/coronavirus/TexasCOVID19CaseCountData.xlsx\"\n",
        "dA = pd.read_excel(url1, sheet_name = 'Case and Fatalities',skiprows=1)\n",
        "dA=dA.truncate(before=0,after=253)  # There are extra rows in the file, just remove, should look for last county, but this is easier\n",
        "dA"
      ],
      "execution_count": 98,
      "outputs": [
        {
          "output_type": "execute_result",
          "data": {
            "text/html": [
              "<div>\n",
              "<style scoped>\n",
              "    .dataframe tbody tr th:only-of-type {\n",
              "        vertical-align: middle;\n",
              "    }\n",
              "\n",
              "    .dataframe tbody tr th {\n",
              "        vertical-align: top;\n",
              "    }\n",
              "\n",
              "    .dataframe thead th {\n",
              "        text-align: right;\n",
              "    }\n",
              "</style>\n",
              "<table border=\"1\" class=\"dataframe\">\n",
              "  <thead>\n",
              "    <tr style=\"text-align: right;\">\n",
              "      <th></th>\n",
              "      <th>County</th>\n",
              "      <th>Confirmed Cases</th>\n",
              "      <th>Probable Cases</th>\n",
              "      <th>Fatalities</th>\n",
              "    </tr>\n",
              "  </thead>\n",
              "  <tbody>\n",
              "    <tr>\n",
              "      <th>0</th>\n",
              "      <td>Anderson</td>\n",
              "      <td>5005.0</td>\n",
              "      <td>2841.0</td>\n",
              "      <td>184</td>\n",
              "    </tr>\n",
              "    <tr>\n",
              "      <th>1</th>\n",
              "      <td>Andrews</td>\n",
              "      <td>2688.0</td>\n",
              "      <td>0.0</td>\n",
              "      <td>52</td>\n",
              "    </tr>\n",
              "    <tr>\n",
              "      <th>2</th>\n",
              "      <td>Angelina</td>\n",
              "      <td>6627.0</td>\n",
              "      <td>6805.0</td>\n",
              "      <td>371</td>\n",
              "    </tr>\n",
              "    <tr>\n",
              "      <th>3</th>\n",
              "      <td>Aransas</td>\n",
              "      <td>1955.0</td>\n",
              "      <td>580.0</td>\n",
              "      <td>59</td>\n",
              "    </tr>\n",
              "    <tr>\n",
              "      <th>4</th>\n",
              "      <td>Archer</td>\n",
              "      <td>968.0</td>\n",
              "      <td>143.0</td>\n",
              "      <td>15</td>\n",
              "    </tr>\n",
              "    <tr>\n",
              "      <th>...</th>\n",
              "      <td>...</td>\n",
              "      <td>...</td>\n",
              "      <td>...</td>\n",
              "      <td>...</td>\n",
              "    </tr>\n",
              "    <tr>\n",
              "      <th>249</th>\n",
              "      <td>Wood</td>\n",
              "      <td>3415.0</td>\n",
              "      <td>2842.0</td>\n",
              "      <td>198</td>\n",
              "    </tr>\n",
              "    <tr>\n",
              "      <th>250</th>\n",
              "      <td>Yoakum</td>\n",
              "      <td>1157.0</td>\n",
              "      <td>0.0</td>\n",
              "      <td>30</td>\n",
              "    </tr>\n",
              "    <tr>\n",
              "      <th>251</th>\n",
              "      <td>Young</td>\n",
              "      <td>2378.0</td>\n",
              "      <td>323.0</td>\n",
              "      <td>60</td>\n",
              "    </tr>\n",
              "    <tr>\n",
              "      <th>252</th>\n",
              "      <td>Zapata</td>\n",
              "      <td>1668.0</td>\n",
              "      <td>505.0</td>\n",
              "      <td>43</td>\n",
              "    </tr>\n",
              "    <tr>\n",
              "      <th>253</th>\n",
              "      <td>Zavala</td>\n",
              "      <td>2111.0</td>\n",
              "      <td>354.0</td>\n",
              "      <td>53</td>\n",
              "    </tr>\n",
              "  </tbody>\n",
              "</table>\n",
              "<p>254 rows × 4 columns</p>\n",
              "</div>"
            ],
            "text/plain": [
              "       County  Confirmed Cases  Probable Cases  Fatalities\n",
              "0    Anderson           5005.0          2841.0         184\n",
              "1     Andrews           2688.0             0.0          52\n",
              "2    Angelina           6627.0          6805.0         371\n",
              "3     Aransas           1955.0           580.0          59\n",
              "4      Archer            968.0           143.0          15\n",
              "..        ...              ...             ...         ...\n",
              "249      Wood           3415.0          2842.0         198\n",
              "250    Yoakum           1157.0             0.0          30\n",
              "251     Young           2378.0           323.0          60\n",
              "252    Zapata           1668.0           505.0          43\n",
              "253    Zavala           2111.0           354.0          53\n",
              "\n",
              "[254 rows x 4 columns]"
            ]
          },
          "metadata": {},
          "execution_count": 98
        }
      ]
    },
    {
      "cell_type": "code",
      "metadata": {
        "colab": {
          "base_uri": "https://localhost:8080/"
        },
        "id": "9Zq_MpMPW5ga",
        "outputId": "dedc8b0a-b792-4215-971d-e52b780a20b1"
      },
      "source": [
        "dA.keys()"
      ],
      "execution_count": 99,
      "outputs": [
        {
          "output_type": "execute_result",
          "data": {
            "text/plain": [
              "Index(['County', 'Confirmed Cases', 'Probable Cases', 'Fatalities'], dtype='object')"
            ]
          },
          "metadata": {},
          "execution_count": 99
        }
      ]
    },
    {
      "cell_type": "code",
      "metadata": {
        "id": "eRdLDafDXCRO"
      },
      "source": [
        "dA = dA.set_index('County')\n"
      ],
      "execution_count": 100,
      "outputs": []
    },
    {
      "cell_type": "code",
      "metadata": {
        "id": "xuTijVetu5VF"
      },
      "source": [
        ""
      ],
      "execution_count": 100,
      "outputs": []
    },
    {
      "cell_type": "markdown",
      "metadata": {
        "id": "ypwYVM3YdkcG"
      },
      "source": [
        "URBAN"
      ]
    },
    {
      "cell_type": "code",
      "metadata": {
        "colab": {
          "base_uri": "https://localhost:8080/",
          "height": 1000
        },
        "id": "IjvMjyiudh3g",
        "outputId": "31035ff6-baec-4525-c5b7-cff81a18efc3"
      },
      "source": [
        "n_uc = [s.replace(\"County\", \"\") for s in udd.index.values.tolist()]\n",
        "n_uc.sort()\n",
        "udf = dA.loc[uc1]\n",
        "udf['County'] = n_uc\n",
        "udf.set_index('County',inplace=True)\n",
        "udf"
      ],
      "execution_count": 101,
      "outputs": [
        {
          "output_type": "execute_result",
          "data": {
            "text/html": [
              "<div>\n",
              "<style scoped>\n",
              "    .dataframe tbody tr th:only-of-type {\n",
              "        vertical-align: middle;\n",
              "    }\n",
              "\n",
              "    .dataframe tbody tr th {\n",
              "        vertical-align: top;\n",
              "    }\n",
              "\n",
              "    .dataframe thead th {\n",
              "        text-align: right;\n",
              "    }\n",
              "</style>\n",
              "<table border=\"1\" class=\"dataframe\">\n",
              "  <thead>\n",
              "    <tr style=\"text-align: right;\">\n",
              "      <th></th>\n",
              "      <th>Confirmed Cases</th>\n",
              "      <th>Probable Cases</th>\n",
              "      <th>Fatalities</th>\n",
              "    </tr>\n",
              "    <tr>\n",
              "      <th>County</th>\n",
              "      <th></th>\n",
              "      <th></th>\n",
              "      <th></th>\n",
              "    </tr>\n",
              "  </thead>\n",
              "  <tbody>\n",
              "    <tr>\n",
              "      <th>Bell</th>\n",
              "      <td>32419.0</td>\n",
              "      <td>4738.0</td>\n",
              "      <td>652</td>\n",
              "    </tr>\n",
              "    <tr>\n",
              "      <th>Bexar</th>\n",
              "      <td>257402.0</td>\n",
              "      <td>53931.0</td>\n",
              "      <td>4793</td>\n",
              "    </tr>\n",
              "    <tr>\n",
              "      <th>Brazoria</th>\n",
              "      <td>45644.0</td>\n",
              "      <td>11877.0</td>\n",
              "      <td>771</td>\n",
              "    </tr>\n",
              "    <tr>\n",
              "      <th>Brazos</th>\n",
              "      <td>31968.0</td>\n",
              "      <td>5308.0</td>\n",
              "      <td>331</td>\n",
              "    </tr>\n",
              "    <tr>\n",
              "      <th>Cameron</th>\n",
              "      <td>52353.0</td>\n",
              "      <td>11729.0</td>\n",
              "      <td>1733</td>\n",
              "    </tr>\n",
              "    <tr>\n",
              "      <th>Chambers</th>\n",
              "      <td>8604.0</td>\n",
              "      <td>0.0</td>\n",
              "      <td>51</td>\n",
              "    </tr>\n",
              "    <tr>\n",
              "      <th>Collin</th>\n",
              "      <td>102184.0</td>\n",
              "      <td>23123.0</td>\n",
              "      <td>1042</td>\n",
              "    </tr>\n",
              "    <tr>\n",
              "      <th>Comal</th>\n",
              "      <td>10752.0</td>\n",
              "      <td>7962.0</td>\n",
              "      <td>427</td>\n",
              "    </tr>\n",
              "    <tr>\n",
              "      <th>Dallas</th>\n",
              "      <td>331812.0</td>\n",
              "      <td>58297.0</td>\n",
              "      <td>4955</td>\n",
              "    </tr>\n",
              "    <tr>\n",
              "      <th>Denton</th>\n",
              "      <td>74115.0</td>\n",
              "      <td>27660.0</td>\n",
              "      <td>928</td>\n",
              "    </tr>\n",
              "    <tr>\n",
              "      <th>El Paso</th>\n",
              "      <td>145576.0</td>\n",
              "      <td>0.0</td>\n",
              "      <td>2831</td>\n",
              "    </tr>\n",
              "    <tr>\n",
              "      <th>Fort Bend</th>\n",
              "      <td>81909.0</td>\n",
              "      <td>13962.0</td>\n",
              "      <td>894</td>\n",
              "    </tr>\n",
              "    <tr>\n",
              "      <th>Galveston</th>\n",
              "      <td>52798.0</td>\n",
              "      <td>9692.0</td>\n",
              "      <td>658</td>\n",
              "    </tr>\n",
              "    <tr>\n",
              "      <th>Grayson</th>\n",
              "      <td>15687.0</td>\n",
              "      <td>0.0</td>\n",
              "      <td>451</td>\n",
              "    </tr>\n",
              "    <tr>\n",
              "      <th>Harris</th>\n",
              "      <td>558870.0</td>\n",
              "      <td>0.0</td>\n",
              "      <td>8456</td>\n",
              "    </tr>\n",
              "    <tr>\n",
              "      <th>Hays</th>\n",
              "      <td>28766.0</td>\n",
              "      <td>3189.0</td>\n",
              "      <td>317</td>\n",
              "    </tr>\n",
              "    <tr>\n",
              "      <th>Hidalgo</th>\n",
              "      <td>67930.0</td>\n",
              "      <td>45161.0</td>\n",
              "      <td>3003</td>\n",
              "    </tr>\n",
              "    <tr>\n",
              "      <th>Jefferson</th>\n",
              "      <td>30990.0</td>\n",
              "      <td>0.0</td>\n",
              "      <td>642</td>\n",
              "    </tr>\n",
              "    <tr>\n",
              "      <th>Johnson</th>\n",
              "      <td>21863.0</td>\n",
              "      <td>4868.0</td>\n",
              "      <td>494</td>\n",
              "    </tr>\n",
              "    <tr>\n",
              "      <th>Kaufman</th>\n",
              "      <td>18508.0</td>\n",
              "      <td>4464.0</td>\n",
              "      <td>383</td>\n",
              "    </tr>\n",
              "    <tr>\n",
              "      <th>Lubbock</th>\n",
              "      <td>64071.0</td>\n",
              "      <td>0.0</td>\n",
              "      <td>938</td>\n",
              "    </tr>\n",
              "    <tr>\n",
              "      <th>McLennan</th>\n",
              "      <td>41044.0</td>\n",
              "      <td>0.0</td>\n",
              "      <td>666</td>\n",
              "    </tr>\n",
              "    <tr>\n",
              "      <th>Midland</th>\n",
              "      <td>24542.0</td>\n",
              "      <td>0.0</td>\n",
              "      <td>342</td>\n",
              "    </tr>\n",
              "    <tr>\n",
              "      <th>Nueces</th>\n",
              "      <td>41384.0</td>\n",
              "      <td>19023.0</td>\n",
              "      <td>982</td>\n",
              "    </tr>\n",
              "    <tr>\n",
              "      <th>Potter</th>\n",
              "      <td>22577.0</td>\n",
              "      <td>0.0</td>\n",
              "      <td>454</td>\n",
              "    </tr>\n",
              "    <tr>\n",
              "      <th>Randall</th>\n",
              "      <td>22689.0</td>\n",
              "      <td>0.0</td>\n",
              "      <td>330</td>\n",
              "    </tr>\n",
              "    <tr>\n",
              "      <th>Rockwall</th>\n",
              "      <td>13214.0</td>\n",
              "      <td>3717.0</td>\n",
              "      <td>204</td>\n",
              "    </tr>\n",
              "    <tr>\n",
              "      <th>San Patricio</th>\n",
              "      <td>5179.0</td>\n",
              "      <td>1624.0</td>\n",
              "      <td>258</td>\n",
              "    </tr>\n",
              "    <tr>\n",
              "      <th>Smith</th>\n",
              "      <td>19600.0</td>\n",
              "      <td>15492.0</td>\n",
              "      <td>689</td>\n",
              "    </tr>\n",
              "    <tr>\n",
              "      <th>Tarrant</th>\n",
              "      <td>289463.0</td>\n",
              "      <td>59334.0</td>\n",
              "      <td>3836</td>\n",
              "    </tr>\n",
              "    <tr>\n",
              "      <th>Travis</th>\n",
              "      <td>115947.0</td>\n",
              "      <td>0.0</td>\n",
              "      <td>1353</td>\n",
              "    </tr>\n",
              "    <tr>\n",
              "      <th>Webb</th>\n",
              "      <td>52340.0</td>\n",
              "      <td>3703.0</td>\n",
              "      <td>877</td>\n",
              "    </tr>\n",
              "    <tr>\n",
              "      <th>Williamson</th>\n",
              "      <td>62481.0</td>\n",
              "      <td>10806.0</td>\n",
              "      <td>642</td>\n",
              "    </tr>\n",
              "    <tr>\n",
              "      <th>Wise</th>\n",
              "      <td>8986.0</td>\n",
              "      <td>1802.0</td>\n",
              "      <td>178</td>\n",
              "    </tr>\n",
              "  </tbody>\n",
              "</table>\n",
              "</div>"
            ],
            "text/plain": [
              "               Confirmed Cases  Probable Cases  Fatalities\n",
              "County                                                    \n",
              "Bell                   32419.0          4738.0         652\n",
              "Bexar                 257402.0         53931.0        4793\n",
              "Brazoria               45644.0         11877.0         771\n",
              "Brazos                 31968.0          5308.0         331\n",
              "Cameron                52353.0         11729.0        1733\n",
              "Chambers                8604.0             0.0          51\n",
              "Collin                102184.0         23123.0        1042\n",
              "Comal                  10752.0          7962.0         427\n",
              "Dallas                331812.0         58297.0        4955\n",
              "Denton                 74115.0         27660.0         928\n",
              "El Paso               145576.0             0.0        2831\n",
              "Fort Bend              81909.0         13962.0         894\n",
              "Galveston              52798.0          9692.0         658\n",
              "Grayson                15687.0             0.0         451\n",
              "Harris                558870.0             0.0        8456\n",
              "Hays                   28766.0          3189.0         317\n",
              "Hidalgo                67930.0         45161.0        3003\n",
              "Jefferson              30990.0             0.0         642\n",
              "Johnson                21863.0          4868.0         494\n",
              "Kaufman                18508.0          4464.0         383\n",
              "Lubbock                64071.0             0.0         938\n",
              "McLennan               41044.0             0.0         666\n",
              "Midland                24542.0             0.0         342\n",
              "Nueces                 41384.0         19023.0         982\n",
              "Potter                 22577.0             0.0         454\n",
              "Randall                22689.0             0.0         330\n",
              "Rockwall               13214.0          3717.0         204\n",
              "San Patricio            5179.0          1624.0         258\n",
              "Smith                  19600.0         15492.0         689\n",
              "Tarrant               289463.0         59334.0        3836\n",
              "Travis                115947.0             0.0        1353\n",
              "Webb                   52340.0          3703.0         877\n",
              "Williamson             62481.0         10806.0         642\n",
              "Wise                    8986.0          1802.0         178"
            ]
          },
          "metadata": {},
          "execution_count": 101
        }
      ]
    },
    {
      "cell_type": "code",
      "metadata": {
        "colab": {
          "base_uri": "https://localhost:8080/",
          "height": 1000
        },
        "id": "7Toi_BSjXfFI",
        "outputId": "5c0fef30-39bf-43a8-81bb-1d7ea4b2f491"
      },
      "source": [
        "for i in udf.index:\n",
        "  #print(uc.loc[i])\n",
        "  udf.loc[i] = udf.loc[i].apply(per_capita,args=(udd['Population'][i],))\n",
        "  \n",
        "udf"
      ],
      "execution_count": 102,
      "outputs": [
        {
          "output_type": "execute_result",
          "data": {
            "text/html": [
              "<div>\n",
              "<style scoped>\n",
              "    .dataframe tbody tr th:only-of-type {\n",
              "        vertical-align: middle;\n",
              "    }\n",
              "\n",
              "    .dataframe tbody tr th {\n",
              "        vertical-align: top;\n",
              "    }\n",
              "\n",
              "    .dataframe thead th {\n",
              "        text-align: right;\n",
              "    }\n",
              "</style>\n",
              "<table border=\"1\" class=\"dataframe\">\n",
              "  <thead>\n",
              "    <tr style=\"text-align: right;\">\n",
              "      <th></th>\n",
              "      <th>Confirmed Cases</th>\n",
              "      <th>Probable Cases</th>\n",
              "      <th>Fatalities</th>\n",
              "    </tr>\n",
              "    <tr>\n",
              "      <th>County</th>\n",
              "      <th></th>\n",
              "      <th></th>\n",
              "      <th></th>\n",
              "    </tr>\n",
              "  </thead>\n",
              "  <tbody>\n",
              "    <tr>\n",
              "      <th>Bell</th>\n",
              "      <td>8746.597167</td>\n",
              "      <td>1278.305234</td>\n",
              "      <td>175.908614</td>\n",
              "    </tr>\n",
              "    <tr>\n",
              "      <th>Bexar</th>\n",
              "      <td>12810.378018</td>\n",
              "      <td>2684.037019</td>\n",
              "      <td>238.537936</td>\n",
              "    </tr>\n",
              "    <tr>\n",
              "      <th>Brazoria</th>\n",
              "      <td>12268.870067</td>\n",
              "      <td>3192.475896</td>\n",
              "      <td>207.240794</td>\n",
              "    </tr>\n",
              "    <tr>\n",
              "      <th>Brazos</th>\n",
              "      <td>13670.359933</td>\n",
              "      <td>2269.840795</td>\n",
              "      <td>141.544330</td>\n",
              "    </tr>\n",
              "    <tr>\n",
              "      <th>Cameron</th>\n",
              "      <td>12434.889803</td>\n",
              "      <td>2785.873255</td>\n",
              "      <td>411.622334</td>\n",
              "    </tr>\n",
              "    <tr>\n",
              "      <th>Chambers</th>\n",
              "      <td>18475.016641</td>\n",
              "      <td>0.000000</td>\n",
              "      <td>109.510210</td>\n",
              "    </tr>\n",
              "    <tr>\n",
              "      <th>Collin</th>\n",
              "      <td>9599.564100</td>\n",
              "      <td>2172.264941</td>\n",
              "      <td>97.889550</td>\n",
              "    </tr>\n",
              "    <tr>\n",
              "      <th>Comal</th>\n",
              "      <td>6657.543916</td>\n",
              "      <td>4930.000433</td>\n",
              "      <td>264.394648</td>\n",
              "    </tr>\n",
              "    <tr>\n",
              "      <th>Dallas</th>\n",
              "      <td>12695.888602</td>\n",
              "      <td>2230.577007</td>\n",
              "      <td>189.589671</td>\n",
              "    </tr>\n",
              "    <tr>\n",
              "      <th>Denton</th>\n",
              "      <td>8176.655024</td>\n",
              "      <td>3051.558766</td>\n",
              "      <td>102.380569</td>\n",
              "    </tr>\n",
              "    <tr>\n",
              "      <th>El Paso</th>\n",
              "      <td>16816.822367</td>\n",
              "      <td>0.000000</td>\n",
              "      <td>327.034842</td>\n",
              "    </tr>\n",
              "    <tr>\n",
              "      <th>Fort Bend</th>\n",
              "      <td>9955.164145</td>\n",
              "      <td>1696.931983</td>\n",
              "      <td>108.656152</td>\n",
              "    </tr>\n",
              "    <tr>\n",
              "      <th>Galveston</th>\n",
              "      <td>15055.805545</td>\n",
              "      <td>2763.757478</td>\n",
              "      <td>187.634381</td>\n",
              "    </tr>\n",
              "    <tr>\n",
              "      <th>Grayson</th>\n",
              "      <td>11573.449016</td>\n",
              "      <td>0.000000</td>\n",
              "      <td>332.735737</td>\n",
              "    </tr>\n",
              "    <tr>\n",
              "      <th>Harris</th>\n",
              "      <td>11812.573912</td>\n",
              "      <td>0.000000</td>\n",
              "      <td>178.730519</td>\n",
              "    </tr>\n",
              "    <tr>\n",
              "      <th>Hays</th>\n",
              "      <td>11932.782173</td>\n",
              "      <td>1322.868746</td>\n",
              "      <td>131.498712</td>\n",
              "    </tr>\n",
              "    <tr>\n",
              "      <th>Hidalgo</th>\n",
              "      <td>7801.042972</td>\n",
              "      <td>5186.263825</td>\n",
              "      <td>344.862830</td>\n",
              "    </tr>\n",
              "    <tr>\n",
              "      <th>Jefferson</th>\n",
              "      <td>12080.646796</td>\n",
              "      <td>0.000000</td>\n",
              "      <td>250.267029</td>\n",
              "    </tr>\n",
              "    <tr>\n",
              "      <th>Johnson</th>\n",
              "      <td>12151.039032</td>\n",
              "      <td>2705.541692</td>\n",
              "      <td>274.555792</td>\n",
              "    </tr>\n",
              "    <tr>\n",
              "      <th>Kaufman</th>\n",
              "      <td>12736.907302</td>\n",
              "      <td>3072.052853</td>\n",
              "      <td>263.574427</td>\n",
              "    </tr>\n",
              "    <tr>\n",
              "      <th>Lubbock</th>\n",
              "      <td>20625.549271</td>\n",
              "      <td>0.000000</td>\n",
              "      <td>301.958222</td>\n",
              "    </tr>\n",
              "    <tr>\n",
              "      <th>McLennan</th>\n",
              "      <td>15751.077408</td>\n",
              "      <td>0.000000</td>\n",
              "      <td>255.584679</td>\n",
              "    </tr>\n",
              "    <tr>\n",
              "      <th>Midland</th>\n",
              "      <td>14437.914380</td>\n",
              "      <td>0.000000</td>\n",
              "      <td>201.196590</td>\n",
              "    </tr>\n",
              "    <tr>\n",
              "      <th>Nueces</th>\n",
              "      <td>11717.604154</td>\n",
              "      <td>5386.235836</td>\n",
              "      <td>278.046764</td>\n",
              "    </tr>\n",
              "    <tr>\n",
              "      <th>Potter</th>\n",
              "      <td>19048.302046</td>\n",
              "      <td>0.000000</td>\n",
              "      <td>383.041552</td>\n",
              "    </tr>\n",
              "    <tr>\n",
              "      <th>Randall</th>\n",
              "      <td>16119.727466</td>\n",
              "      <td>0.000000</td>\n",
              "      <td>234.453262</td>\n",
              "    </tr>\n",
              "    <tr>\n",
              "      <th>Rockwall</th>\n",
              "      <td>12255.724872</td>\n",
              "      <td>3447.444328</td>\n",
              "      <td>189.205984</td>\n",
              "    </tr>\n",
              "    <tr>\n",
              "      <th>San Patricio</th>\n",
              "      <td>7532.543088</td>\n",
              "      <td>2362.010036</td>\n",
              "      <td>375.245437</td>\n",
              "    </tr>\n",
              "    <tr>\n",
              "      <th>Smith</th>\n",
              "      <td>8394.759272</td>\n",
              "      <td>6635.286257</td>\n",
              "      <td>295.101487</td>\n",
              "    </tr>\n",
              "    <tr>\n",
              "      <th>Tarrant</th>\n",
              "      <td>13714.465754</td>\n",
              "      <td>2811.185233</td>\n",
              "      <td>181.745821</td>\n",
              "    </tr>\n",
              "    <tr>\n",
              "      <th>Travis</th>\n",
              "      <td>8986.829826</td>\n",
              "      <td>0.000000</td>\n",
              "      <td>104.868438</td>\n",
              "    </tr>\n",
              "    <tr>\n",
              "      <th>Webb</th>\n",
              "      <td>19594.630008</td>\n",
              "      <td>1386.299483</td>\n",
              "      <td>328.324236</td>\n",
              "    </tr>\n",
              "    <tr>\n",
              "      <th>Williamson</th>\n",
              "      <td>10259.319526</td>\n",
              "      <td>1774.334707</td>\n",
              "      <td>105.415777</td>\n",
              "    </tr>\n",
              "    <tr>\n",
              "      <th>Wise</th>\n",
              "      <td>13093.017834</td>\n",
              "      <td>2625.597389</td>\n",
              "      <td>259.354237</td>\n",
              "    </tr>\n",
              "  </tbody>\n",
              "</table>\n",
              "</div>"
            ],
            "text/plain": [
              "               Confirmed Cases  Probable Cases  Fatalities\n",
              "County                                                    \n",
              "Bell               8746.597167     1278.305234  175.908614\n",
              "Bexar             12810.378018     2684.037019  238.537936\n",
              "Brazoria          12268.870067     3192.475896  207.240794\n",
              "Brazos            13670.359933     2269.840795  141.544330\n",
              "Cameron           12434.889803     2785.873255  411.622334\n",
              "Chambers          18475.016641        0.000000  109.510210\n",
              "Collin             9599.564100     2172.264941   97.889550\n",
              "Comal              6657.543916     4930.000433  264.394648\n",
              "Dallas            12695.888602     2230.577007  189.589671\n",
              "Denton             8176.655024     3051.558766  102.380569\n",
              "El Paso           16816.822367        0.000000  327.034842\n",
              "Fort Bend          9955.164145     1696.931983  108.656152\n",
              "Galveston         15055.805545     2763.757478  187.634381\n",
              "Grayson           11573.449016        0.000000  332.735737\n",
              "Harris            11812.573912        0.000000  178.730519\n",
              "Hays              11932.782173     1322.868746  131.498712\n",
              "Hidalgo            7801.042972     5186.263825  344.862830\n",
              "Jefferson         12080.646796        0.000000  250.267029\n",
              "Johnson           12151.039032     2705.541692  274.555792\n",
              "Kaufman           12736.907302     3072.052853  263.574427\n",
              "Lubbock           20625.549271        0.000000  301.958222\n",
              "McLennan          15751.077408        0.000000  255.584679\n",
              "Midland           14437.914380        0.000000  201.196590\n",
              "Nueces            11717.604154     5386.235836  278.046764\n",
              "Potter            19048.302046        0.000000  383.041552\n",
              "Randall           16119.727466        0.000000  234.453262\n",
              "Rockwall          12255.724872     3447.444328  189.205984\n",
              "San Patricio       7532.543088     2362.010036  375.245437\n",
              "Smith              8394.759272     6635.286257  295.101487\n",
              "Tarrant           13714.465754     2811.185233  181.745821\n",
              "Travis             8986.829826        0.000000  104.868438\n",
              "Webb              19594.630008     1386.299483  328.324236\n",
              "Williamson        10259.319526     1774.334707  105.415777\n",
              "Wise              13093.017834     2625.597389  259.354237"
            ]
          },
          "metadata": {},
          "execution_count": 102
        }
      ]
    },
    {
      "cell_type": "markdown",
      "metadata": {
        "id": "yTQYdfmZch9v"
      },
      "source": [
        "RURAL COUNTY"
      ]
    },
    {
      "cell_type": "code",
      "metadata": {
        "colab": {
          "base_uri": "https://localhost:8080/",
          "height": 492
        },
        "id": "ykQnNK6Vvd5o",
        "outputId": "282fcce4-ecda-494f-d90e-3562577bf2b0"
      },
      "source": [
        "#n_rc = [s.replace(\"County\", \"\") for s in rd.index.values.tolist()]\n",
        "n_rc= rdd.index.values.tolist()\n",
        "n_rc = [x.strip(' ') for x in n_rc]\n",
        "print(n_rc)\n",
        "rdf = dA.loc[n_rc]\n",
        "rdf['County'] = n_rc\n",
        "rdf.set_index('County',inplace=True)\n",
        "rdf\n",
        "#print(rdf.index.values.tolist())"
      ],
      "execution_count": 103,
      "outputs": [
        {
          "output_type": "stream",
          "name": "stdout",
          "text": [
            "['Anderson', 'Andrews', 'Angelina', 'Aransas', 'Archer', 'Armstrong', 'Atascosa', 'Austin', 'Bailey', 'Bandera', 'Bastrop', 'Baylor', 'Bee', 'Blanco', 'Borden', 'Bosque', 'Bowie', 'Brewster', 'Briscoe', 'Brooks', 'Brown', 'Burleson', 'Burnet', 'Caldwell', 'Calhoun', 'Callahan', 'Camp', 'Carson', 'Cass', 'Castro', 'Cherokee', 'Childress', 'Clay', 'Cochran', 'Coke', 'Coleman', 'Collingsworth', 'Colorado', 'Comanche', 'Concho', 'Cooke', 'Coryell', 'Cottle', 'Crane', 'Crockett', 'Crosby', 'Culberson', 'Dallam', 'Dawson', 'DeWitt', 'Deaf Smith', 'Delta', 'Dickens', 'Dimmit', 'Donley', 'Duval', 'Eastland', 'Ector', 'Edwards', 'Ellis', 'Erath', 'Falls', 'Fannin', 'Fayette', 'Fisher', 'Floyd', 'Foard', 'Franklin', 'Freestone', 'Frio', 'Gaines', 'Garza', 'Gillespie', 'Glasscock', 'Goliad', 'Gonzales', 'Gray', 'Gregg', 'Grimes', 'Guadalupe', 'Hale', 'Hall', 'Hamilton', 'Hansford', 'Hardeman', 'Hardin', 'Harrison', 'Hartley', 'Haskell', 'Hemphill', 'Henderson', 'Hill', 'Hockley', 'Hood', 'Hopkins', 'Houston', 'Howard', 'Hudspeth', 'Hunt', 'Hutchinson', 'Irion', 'Jack', 'Jackson', 'Jasper', 'Jeff Davis', 'Jim Hogg', 'Jim Wells', 'Jones', 'Karnes', 'Kendall', 'Kenedy', 'Kent', 'Kerr', 'Kimble', 'King', 'Kinney', 'Kleberg', 'Knox', 'La Salle', 'Lamar', 'Lamb', 'Lampasas', 'Lavaca', 'Lee', 'Leon', 'Liberty', 'Limestone', 'Lipscomb', 'Live Oak', 'Llano', 'Loving', 'Lynn', 'Madison', 'Marion', 'Martin', 'Mason', 'Matagorda', 'Maverick', 'McCulloch', 'McMullen', 'Medina', 'Menard', 'Milam', 'Mills', 'Mitchell', 'Montague', 'Montgomery', 'Moore', 'Morris', 'Motley', 'Nacogdoches', 'Navarro', 'Newton', 'Nolan', 'Ochiltree', 'Oldham', 'Orange', 'Palo Pinto', 'Panola', 'Parker', 'Parmer', 'Pecos', 'Polk', 'Presidio', 'Rains', 'Reagan', 'Real', 'Red River', 'Reeves', 'Refugio', 'Roberts', 'Robertson', 'Runnels', 'Rusk', 'Sabine', 'San Augustine', 'San Jacinto', 'San Saba', 'Schleicher', 'Scurry', 'Shackelford', 'Shelby', 'Sherman', 'Somervell', 'Starr', 'Stephens', 'Sterling', 'Stonewall', 'Sutton', 'Swisher', 'Taylor', 'Terrell', 'Terry', 'Throckmorton', 'Titus', 'Tom Green', 'Trinity', 'Tyler', 'Upshur', 'Upton', 'Uvalde', 'Val Verde', 'Van Zandt', 'Victoria', 'Walker', 'Waller', 'Ward', 'Washington', 'Wharton', 'Wheeler', 'Wichita', 'Wilbarger', 'Willacy', 'Wilson', 'Winkler', 'Wood', 'Yoakum', 'Young', 'Zapata', 'Zavala']\n"
          ]
        },
        {
          "output_type": "execute_result",
          "data": {
            "text/html": [
              "<div>\n",
              "<style scoped>\n",
              "    .dataframe tbody tr th:only-of-type {\n",
              "        vertical-align: middle;\n",
              "    }\n",
              "\n",
              "    .dataframe tbody tr th {\n",
              "        vertical-align: top;\n",
              "    }\n",
              "\n",
              "    .dataframe thead th {\n",
              "        text-align: right;\n",
              "    }\n",
              "</style>\n",
              "<table border=\"1\" class=\"dataframe\">\n",
              "  <thead>\n",
              "    <tr style=\"text-align: right;\">\n",
              "      <th></th>\n",
              "      <th>Confirmed Cases</th>\n",
              "      <th>Probable Cases</th>\n",
              "      <th>Fatalities</th>\n",
              "    </tr>\n",
              "    <tr>\n",
              "      <th>County</th>\n",
              "      <th></th>\n",
              "      <th></th>\n",
              "      <th></th>\n",
              "    </tr>\n",
              "  </thead>\n",
              "  <tbody>\n",
              "    <tr>\n",
              "      <th>Anderson</th>\n",
              "      <td>5005.0</td>\n",
              "      <td>2841.0</td>\n",
              "      <td>184</td>\n",
              "    </tr>\n",
              "    <tr>\n",
              "      <th>Andrews</th>\n",
              "      <td>2688.0</td>\n",
              "      <td>0.0</td>\n",
              "      <td>52</td>\n",
              "    </tr>\n",
              "    <tr>\n",
              "      <th>Angelina</th>\n",
              "      <td>6627.0</td>\n",
              "      <td>6805.0</td>\n",
              "      <td>371</td>\n",
              "    </tr>\n",
              "    <tr>\n",
              "      <th>Aransas</th>\n",
              "      <td>1955.0</td>\n",
              "      <td>580.0</td>\n",
              "      <td>59</td>\n",
              "    </tr>\n",
              "    <tr>\n",
              "      <th>Archer</th>\n",
              "      <td>968.0</td>\n",
              "      <td>143.0</td>\n",
              "      <td>15</td>\n",
              "    </tr>\n",
              "    <tr>\n",
              "      <th>...</th>\n",
              "      <td>...</td>\n",
              "      <td>...</td>\n",
              "      <td>...</td>\n",
              "    </tr>\n",
              "    <tr>\n",
              "      <th>Wood</th>\n",
              "      <td>3415.0</td>\n",
              "      <td>2842.0</td>\n",
              "      <td>198</td>\n",
              "    </tr>\n",
              "    <tr>\n",
              "      <th>Yoakum</th>\n",
              "      <td>1157.0</td>\n",
              "      <td>0.0</td>\n",
              "      <td>30</td>\n",
              "    </tr>\n",
              "    <tr>\n",
              "      <th>Young</th>\n",
              "      <td>2378.0</td>\n",
              "      <td>323.0</td>\n",
              "      <td>60</td>\n",
              "    </tr>\n",
              "    <tr>\n",
              "      <th>Zapata</th>\n",
              "      <td>1668.0</td>\n",
              "      <td>505.0</td>\n",
              "      <td>43</td>\n",
              "    </tr>\n",
              "    <tr>\n",
              "      <th>Zavala</th>\n",
              "      <td>2111.0</td>\n",
              "      <td>354.0</td>\n",
              "      <td>53</td>\n",
              "    </tr>\n",
              "  </tbody>\n",
              "</table>\n",
              "<p>220 rows × 3 columns</p>\n",
              "</div>"
            ],
            "text/plain": [
              "          Confirmed Cases  Probable Cases  Fatalities\n",
              "County                                               \n",
              "Anderson           5005.0          2841.0         184\n",
              "Andrews            2688.0             0.0          52\n",
              "Angelina           6627.0          6805.0         371\n",
              "Aransas            1955.0           580.0          59\n",
              "Archer              968.0           143.0          15\n",
              "...                   ...             ...         ...\n",
              "Wood               3415.0          2842.0         198\n",
              "Yoakum             1157.0             0.0          30\n",
              "Young              2378.0           323.0          60\n",
              "Zapata             1668.0           505.0          43\n",
              "Zavala             2111.0           354.0          53\n",
              "\n",
              "[220 rows x 3 columns]"
            ]
          },
          "metadata": {},
          "execution_count": 103
        }
      ]
    },
    {
      "cell_type": "code",
      "metadata": {
        "colab": {
          "base_uri": "https://localhost:8080/"
        },
        "id": "ySOWrCEz5TGl",
        "outputId": "43d6cf71-a4ef-4797-f66a-8f96dcc2793f"
      },
      "source": [
        "#print('r',rd.index)\n",
        "#print('rdf1',rdf.index)\n",
        "er = [x.strip(' ') for x in rdd.index]\n",
        "#print(er)\n",
        "rdd['County'] = er\n",
        "rdf['County'] = er\n",
        "print('rdf',rdf.index)\n",
        "print('rd',rdd.index)\n",
        "#print(rdf.index == rdd.index)"
      ],
      "execution_count": 104,
      "outputs": [
        {
          "output_type": "stream",
          "name": "stdout",
          "text": [
            "rdf Index(['Anderson', 'Andrews', 'Angelina', 'Aransas', 'Archer', 'Armstrong',\n",
            "       'Atascosa', 'Austin', 'Bailey', 'Bandera',\n",
            "       ...\n",
            "       'Wichita', 'Wilbarger', 'Willacy', 'Wilson', 'Winkler', 'Wood',\n",
            "       'Yoakum', 'Young', 'Zapata', 'Zavala'],\n",
            "      dtype='object', name='County', length=220)\n",
            "rd Index(['Anderson', 'Andrews', 'Angelina', 'Aransas', 'Archer', 'Armstrong',\n",
            "       'Atascosa', 'Austin', 'Bailey', 'Bandera',\n",
            "       ...\n",
            "       'Wichita', 'Wilbarger', 'Willacy', 'Wilson', 'Winkler', 'Wood',\n",
            "       'Yoakum', 'Young', 'Zapata', 'Zavala'],\n",
            "      dtype='object', name='County', length=220)\n"
          ]
        }
      ]
    },
    {
      "cell_type": "code",
      "metadata": {
        "colab": {
          "base_uri": "https://localhost:8080/",
          "height": 455
        },
        "id": "Zm8Iv2YJIda4",
        "outputId": "5b91f011-e3d3-4969-ad02-07152d4742b1"
      },
      "source": [
        "rdd.drop(labels=None, axis=0, index=None, columns=['County'], inplace=True)\n",
        "rdd"
      ],
      "execution_count": 105,
      "outputs": [
        {
          "output_type": "execute_result",
          "data": {
            "text/html": [
              "<div>\n",
              "<style scoped>\n",
              "    .dataframe tbody tr th:only-of-type {\n",
              "        vertical-align: middle;\n",
              "    }\n",
              "\n",
              "    .dataframe tbody tr th {\n",
              "        vertical-align: top;\n",
              "    }\n",
              "\n",
              "    .dataframe thead th {\n",
              "        text-align: right;\n",
              "    }\n",
              "</style>\n",
              "<table border=\"1\" class=\"dataframe\">\n",
              "  <thead>\n",
              "    <tr style=\"text-align: right;\">\n",
              "      <th></th>\n",
              "      <th>Population</th>\n",
              "    </tr>\n",
              "    <tr>\n",
              "      <th>County</th>\n",
              "      <th></th>\n",
              "    </tr>\n",
              "  </thead>\n",
              "  <tbody>\n",
              "    <tr>\n",
              "      <th>Anderson</th>\n",
              "      <td>57922</td>\n",
              "    </tr>\n",
              "    <tr>\n",
              "      <th>Andrews</th>\n",
              "      <td>18610</td>\n",
              "    </tr>\n",
              "    <tr>\n",
              "      <th>Angelina</th>\n",
              "      <td>86395</td>\n",
              "    </tr>\n",
              "    <tr>\n",
              "      <th>Aransas</th>\n",
              "      <td>23830</td>\n",
              "    </tr>\n",
              "    <tr>\n",
              "      <th>Archer</th>\n",
              "      <td>8560</td>\n",
              "    </tr>\n",
              "    <tr>\n",
              "      <th>...</th>\n",
              "      <td>...</td>\n",
              "    </tr>\n",
              "    <tr>\n",
              "      <th>Wood</th>\n",
              "      <td>44843</td>\n",
              "    </tr>\n",
              "    <tr>\n",
              "      <th>Yoakum</th>\n",
              "      <td>7694</td>\n",
              "    </tr>\n",
              "    <tr>\n",
              "      <th>Young</th>\n",
              "      <td>17867</td>\n",
              "    </tr>\n",
              "    <tr>\n",
              "      <th>Zapata</th>\n",
              "      <td>13889</td>\n",
              "    </tr>\n",
              "    <tr>\n",
              "      <th>Zavala</th>\n",
              "      <td>9670</td>\n",
              "    </tr>\n",
              "  </tbody>\n",
              "</table>\n",
              "<p>220 rows × 1 columns</p>\n",
              "</div>"
            ],
            "text/plain": [
              "          Population\n",
              "County              \n",
              "Anderson       57922\n",
              "Andrews        18610\n",
              "Angelina       86395\n",
              "Aransas        23830\n",
              "Archer          8560\n",
              "...              ...\n",
              "Wood           44843\n",
              "Yoakum          7694\n",
              "Young          17867\n",
              "Zapata         13889\n",
              "Zavala          9670\n",
              "\n",
              "[220 rows x 1 columns]"
            ]
          },
          "metadata": {},
          "execution_count": 105
        }
      ]
    },
    {
      "cell_type": "code",
      "metadata": {
        "colab": {
          "base_uri": "https://localhost:8080/",
          "height": 455
        },
        "id": "hDAHwIoBKnmO",
        "outputId": "2f89ced1-3143-417f-f21a-3112f178ff82"
      },
      "source": [
        "rdf.drop(labels=None, axis=0, index=None, columns=['County'], inplace=True)\n",
        "rdf"
      ],
      "execution_count": 106,
      "outputs": [
        {
          "output_type": "execute_result",
          "data": {
            "text/html": [
              "<div>\n",
              "<style scoped>\n",
              "    .dataframe tbody tr th:only-of-type {\n",
              "        vertical-align: middle;\n",
              "    }\n",
              "\n",
              "    .dataframe tbody tr th {\n",
              "        vertical-align: top;\n",
              "    }\n",
              "\n",
              "    .dataframe thead th {\n",
              "        text-align: right;\n",
              "    }\n",
              "</style>\n",
              "<table border=\"1\" class=\"dataframe\">\n",
              "  <thead>\n",
              "    <tr style=\"text-align: right;\">\n",
              "      <th></th>\n",
              "      <th>Confirmed Cases</th>\n",
              "      <th>Probable Cases</th>\n",
              "      <th>Fatalities</th>\n",
              "    </tr>\n",
              "    <tr>\n",
              "      <th>County</th>\n",
              "      <th></th>\n",
              "      <th></th>\n",
              "      <th></th>\n",
              "    </tr>\n",
              "  </thead>\n",
              "  <tbody>\n",
              "    <tr>\n",
              "      <th>Anderson</th>\n",
              "      <td>5005.0</td>\n",
              "      <td>2841.0</td>\n",
              "      <td>184</td>\n",
              "    </tr>\n",
              "    <tr>\n",
              "      <th>Andrews</th>\n",
              "      <td>2688.0</td>\n",
              "      <td>0.0</td>\n",
              "      <td>52</td>\n",
              "    </tr>\n",
              "    <tr>\n",
              "      <th>Angelina</th>\n",
              "      <td>6627.0</td>\n",
              "      <td>6805.0</td>\n",
              "      <td>371</td>\n",
              "    </tr>\n",
              "    <tr>\n",
              "      <th>Aransas</th>\n",
              "      <td>1955.0</td>\n",
              "      <td>580.0</td>\n",
              "      <td>59</td>\n",
              "    </tr>\n",
              "    <tr>\n",
              "      <th>Archer</th>\n",
              "      <td>968.0</td>\n",
              "      <td>143.0</td>\n",
              "      <td>15</td>\n",
              "    </tr>\n",
              "    <tr>\n",
              "      <th>...</th>\n",
              "      <td>...</td>\n",
              "      <td>...</td>\n",
              "      <td>...</td>\n",
              "    </tr>\n",
              "    <tr>\n",
              "      <th>Wood</th>\n",
              "      <td>3415.0</td>\n",
              "      <td>2842.0</td>\n",
              "      <td>198</td>\n",
              "    </tr>\n",
              "    <tr>\n",
              "      <th>Yoakum</th>\n",
              "      <td>1157.0</td>\n",
              "      <td>0.0</td>\n",
              "      <td>30</td>\n",
              "    </tr>\n",
              "    <tr>\n",
              "      <th>Young</th>\n",
              "      <td>2378.0</td>\n",
              "      <td>323.0</td>\n",
              "      <td>60</td>\n",
              "    </tr>\n",
              "    <tr>\n",
              "      <th>Zapata</th>\n",
              "      <td>1668.0</td>\n",
              "      <td>505.0</td>\n",
              "      <td>43</td>\n",
              "    </tr>\n",
              "    <tr>\n",
              "      <th>Zavala</th>\n",
              "      <td>2111.0</td>\n",
              "      <td>354.0</td>\n",
              "      <td>53</td>\n",
              "    </tr>\n",
              "  </tbody>\n",
              "</table>\n",
              "<p>220 rows × 3 columns</p>\n",
              "</div>"
            ],
            "text/plain": [
              "          Confirmed Cases  Probable Cases  Fatalities\n",
              "County                                               \n",
              "Anderson           5005.0          2841.0         184\n",
              "Andrews            2688.0             0.0          52\n",
              "Angelina           6627.0          6805.0         371\n",
              "Aransas            1955.0           580.0          59\n",
              "Archer              968.0           143.0          15\n",
              "...                   ...             ...         ...\n",
              "Wood               3415.0          2842.0         198\n",
              "Yoakum             1157.0             0.0          30\n",
              "Young              2378.0           323.0          60\n",
              "Zapata             1668.0           505.0          43\n",
              "Zavala             2111.0           354.0          53\n",
              "\n",
              "[220 rows x 3 columns]"
            ]
          },
          "metadata": {},
          "execution_count": 106
        }
      ]
    },
    {
      "cell_type": "code",
      "metadata": {
        "colab": {
          "base_uri": "https://localhost:8080/",
          "height": 455
        },
        "id": "Cl3rW-ZGvePO",
        "outputId": "0b70416c-23f3-4cfc-ed44-06d8708a3e7f"
      },
      "source": [
        "for i in rdf.index:\n",
        "  #\n",
        "\n",
        "  #print(rdd['Population'][i])\n",
        "  rdf.loc[i] = rdf.loc[i].apply(per_capita,args=((rdd['Population'][i]),))\n",
        "  \n",
        "rdf"
      ],
      "execution_count": 107,
      "outputs": [
        {
          "output_type": "execute_result",
          "data": {
            "text/html": [
              "<div>\n",
              "<style scoped>\n",
              "    .dataframe tbody tr th:only-of-type {\n",
              "        vertical-align: middle;\n",
              "    }\n",
              "\n",
              "    .dataframe tbody tr th {\n",
              "        vertical-align: top;\n",
              "    }\n",
              "\n",
              "    .dataframe thead th {\n",
              "        text-align: right;\n",
              "    }\n",
              "</style>\n",
              "<table border=\"1\" class=\"dataframe\">\n",
              "  <thead>\n",
              "    <tr style=\"text-align: right;\">\n",
              "      <th></th>\n",
              "      <th>Confirmed Cases</th>\n",
              "      <th>Probable Cases</th>\n",
              "      <th>Fatalities</th>\n",
              "    </tr>\n",
              "    <tr>\n",
              "      <th>County</th>\n",
              "      <th></th>\n",
              "      <th></th>\n",
              "      <th></th>\n",
              "    </tr>\n",
              "  </thead>\n",
              "  <tbody>\n",
              "    <tr>\n",
              "      <th>Anderson</th>\n",
              "      <td>8640.930907</td>\n",
              "      <td>4904.872069</td>\n",
              "      <td>317.668589</td>\n",
              "    </tr>\n",
              "    <tr>\n",
              "      <th>Andrews</th>\n",
              "      <td>14443.847394</td>\n",
              "      <td>0.000000</td>\n",
              "      <td>279.419667</td>\n",
              "    </tr>\n",
              "    <tr>\n",
              "      <th>Angelina</th>\n",
              "      <td>7670.582788</td>\n",
              "      <td>7876.613230</td>\n",
              "      <td>429.422999</td>\n",
              "    </tr>\n",
              "    <tr>\n",
              "      <th>Aransas</th>\n",
              "      <td>8203.944608</td>\n",
              "      <td>2433.906840</td>\n",
              "      <td>247.587075</td>\n",
              "    </tr>\n",
              "    <tr>\n",
              "      <th>Archer</th>\n",
              "      <td>11308.411215</td>\n",
              "      <td>1670.560748</td>\n",
              "      <td>175.233645</td>\n",
              "    </tr>\n",
              "    <tr>\n",
              "      <th>...</th>\n",
              "      <td>...</td>\n",
              "      <td>...</td>\n",
              "      <td>...</td>\n",
              "    </tr>\n",
              "    <tr>\n",
              "      <th>Wood</th>\n",
              "      <td>7615.458377</td>\n",
              "      <td>6337.666971</td>\n",
              "      <td>441.540486</td>\n",
              "    </tr>\n",
              "    <tr>\n",
              "      <th>Yoakum</th>\n",
              "      <td>15037.691708</td>\n",
              "      <td>0.000000</td>\n",
              "      <td>389.914219</td>\n",
              "    </tr>\n",
              "    <tr>\n",
              "      <th>Young</th>\n",
              "      <td>13309.453182</td>\n",
              "      <td>1807.802093</td>\n",
              "      <td>335.814630</td>\n",
              "    </tr>\n",
              "    <tr>\n",
              "      <th>Zapata</th>\n",
              "      <td>12009.503924</td>\n",
              "      <td>3635.970912</td>\n",
              "      <td>309.597523</td>\n",
              "    </tr>\n",
              "    <tr>\n",
              "      <th>Zavala</th>\n",
              "      <td>21830.403309</td>\n",
              "      <td>3660.806618</td>\n",
              "      <td>548.086867</td>\n",
              "    </tr>\n",
              "  </tbody>\n",
              "</table>\n",
              "<p>220 rows × 3 columns</p>\n",
              "</div>"
            ],
            "text/plain": [
              "          Confirmed Cases  Probable Cases  Fatalities\n",
              "County                                               \n",
              "Anderson      8640.930907     4904.872069  317.668589\n",
              "Andrews      14443.847394        0.000000  279.419667\n",
              "Angelina      7670.582788     7876.613230  429.422999\n",
              "Aransas       8203.944608     2433.906840  247.587075\n",
              "Archer       11308.411215     1670.560748  175.233645\n",
              "...                   ...             ...         ...\n",
              "Wood          7615.458377     6337.666971  441.540486\n",
              "Yoakum       15037.691708        0.000000  389.914219\n",
              "Young        13309.453182     1807.802093  335.814630\n",
              "Zapata       12009.503924     3635.970912  309.597523\n",
              "Zavala       21830.403309     3660.806618  548.086867\n",
              "\n",
              "[220 rows x 3 columns]"
            ]
          },
          "metadata": {},
          "execution_count": 107
        }
      ]
    },
    {
      "cell_type": "code",
      "metadata": {
        "colab": {
          "base_uri": "https://localhost:8080/",
          "height": 283
        },
        "id": "E3hwXZ0v8By7",
        "outputId": "13825706-47b7-4b0f-8340-3c35199b0217"
      },
      "source": [
        "udf.plot(kind='hist')\n",
        "udf['Fatalities'].plot(kind='hist')\n"
      ],
      "execution_count": 108,
      "outputs": [
        {
          "output_type": "execute_result",
          "data": {
            "text/plain": [
              "<matplotlib.axes._subplots.AxesSubplot at 0x7f91050117d0>"
            ]
          },
          "metadata": {},
          "execution_count": 108
        },
        {
          "output_type": "display_data",
          "data": {
            "image/png": "[encoded data removed]",
            "text/plain": [
              "<Figure size 432x288 with 1 Axes>"
            ]
          },
          "metadata": {
            "needs_background": "light"
          }
        }
      ]
    },
    {
      "cell_type": "code",
      "metadata": {
        "colab": {
          "base_uri": "https://localhost:8080/",
          "height": 283
        },
        "id": "wUZH0d6b8ytM",
        "outputId": "1d2d22cf-3848-41ba-cca6-ae721a3dbdcb"
      },
      "source": [
        "rdf.plot(kind='hist')\n",
        "rdf['Fatalities'].plot(kind='hist')"
      ],
      "execution_count": 109,
      "outputs": [
        {
          "output_type": "execute_result",
          "data": {
            "text/plain": [
              "<matplotlib.axes._subplots.AxesSubplot at 0x7f910501a190>"
            ]
          },
          "metadata": {},
          "execution_count": 109
        },
        {
          "output_type": "display_data",
          "data": {
            "image/png": "[encoded data removed]",
            "text/plain": [
              "<Figure size 432x288 with 1 Axes>"
            ]
          },
          "metadata": {
            "needs_background": "light"
          }
        }
      ]
    },
    {
      "cell_type": "code",
      "metadata": {
        "colab": {
          "base_uri": "https://localhost:8080/",
          "height": 297
        },
        "id": "7jYNGR_B-bOL",
        "outputId": "ad1e3e94-5793-4071-8bbe-857c7e744d88"
      },
      "source": [
        "udf['Fatalities'].plot(style='*')"
      ],
      "execution_count": 110,
      "outputs": [
        {
          "output_type": "execute_result",
          "data": {
            "text/plain": [
              "<matplotlib.axes._subplots.AxesSubplot at 0x7f9104ebbed0>"
            ]
          },
          "metadata": {},
          "execution_count": 110
        },
        {
          "output_type": "display_data",
          "data": {
            "image/png": "[encoded data removed]",
            "text/plain": [
              "<Figure size 432x288 with 1 Axes>"
            ]
          },
          "metadata": {
            "needs_background": "light"
          }
        }
      ]
    },
    {
      "cell_type": "code",
      "metadata": {
        "colab": {
          "base_uri": "https://localhost:8080/",
          "height": 297
        },
        "id": "Y4RvKv9d9aGd",
        "outputId": "50e090cf-f5fd-4b66-a3c8-dda02e9beb9f"
      },
      "source": [
        "rdf['Fatalities'].plot(style=\".\")"
      ],
      "execution_count": 111,
      "outputs": [
        {
          "output_type": "execute_result",
          "data": {
            "text/plain": [
              "<matplotlib.axes._subplots.AxesSubplot at 0x7f9104e007d0>"
            ]
          },
          "metadata": {},
          "execution_count": 111
        },
        {
          "output_type": "display_data",
          "data": {
            "image/png": "[encoded data removed]",
            "text/plain": [
              "<Figure size 432x288 with 1 Axes>"
            ]
          },
          "metadata": {
            "needs_background": "light"
          }
        }
      ]
    },
    {
      "cell_type": "code",
      "metadata": {
        "colab": {
          "base_uri": "https://localhost:8080/",
          "height": 349
        },
        "id": "yUxSWPja_AaA",
        "outputId": "65b73e4c-0da7-4187-a927-e96addd22c46"
      },
      "source": [
        "udf.plot.bar(stacked=True)"
      ],
      "execution_count": 112,
      "outputs": [
        {
          "output_type": "execute_result",
          "data": {
            "text/plain": [
              "<matplotlib.axes._subplots.AxesSubplot at 0x7f9107657350>"
            ]
          },
          "metadata": {},
          "execution_count": 112
        },
        {
          "output_type": "display_data",
          "data": {
            "image/png": "[encoded data removed]",
            "text/plain": [
              "<Figure size 432x288 with 1 Axes>"
            ]
          },
          "metadata": {
            "needs_background": "light"
          }
        }
      ]
    },
    {
      "cell_type": "code",
      "metadata": {
        "colab": {
          "base_uri": "https://localhost:8080/",
          "height": 1000
        },
        "id": "CEfKEqI-pAQL",
        "outputId": "20f32797-6853-40ac-ae30-232542dcc082"
      },
      "source": [
        "fig = plt.figure(figsize=(20,50))\n",
        "ax = fig.figure\n",
        "#rural\n",
        "#rs = [n for n in range(len(rdf['Confirmed Cases'].values.tolist()))]\n",
        "rs = [n/10 for n in rdf['Confirmed Cases'].values.tolist()]\n",
        "plt.scatter(rdf['Confirmed Cases'],rdf.index,s=rs,label=\"rural county Confirmed Cases\")\n",
        "rs = [n for n in rdf['Fatalities'].values.tolist()]\n",
        "plt.scatter(rdf['Fatalities'],rdf.index,s=rs,label=\"rural county Fatalities\")\n",
        "#Ft\n",
        "us = [n for n in udf['Confirmed Cases'].values.tolist()]\n",
        "#print(us)\n",
        "plt.scatter(udf['Confirmed Cases'],udf.index,s=us,label = \"Urban county Confirmed Cases\")\n",
        "sd = [n for n in udf['Fatalities'].values.tolist()]\n",
        "plt.scatter(udf['Fatalities'],udf.index,s= sd, label = \"Uban county Fatalities\")\n",
        "plt.title('Scatter plot of Confirmed cases vs Fatalities of Urban vs Rural counties of TX')\n",
        "plt.xlabel('X - in terms of percapita pop of 100k')\n",
        "plt.ylabel('Y - Counties')\n",
        "plt.legend(loc='best', fontsize= 28,prop={'size': 10})\n",
        "plt.show()\n",
        "#plt.savefig('fvc.pdf')\n",
        "#plt.scatter(udf['Confirmed Cases'],udf['Fatalities'],label= 'Urban Fatalities Vs CC')"
      ],
      "execution_count": 147,
      "outputs": [
        {
          "output_type": "display_data",
          "data": {
            "image/png": "[encoded data removed]",
            "text/plain": [
              "<Figure size 1440x3600 with 1 Axes>"
            ]
          },
          "metadata": {
            "needs_background": "light"
          }
        }
      ]
    },
    {
      "cell_type": "code",
      "metadata": {
        "colab": {
          "base_uri": "https://localhost:8080/",
          "height": 143
        },
        "id": "Zh_kJJH1RfEO",
        "outputId": "d44bb4e1-16d7-4200-e2b2-36fac906ca24"
      },
      "source": [
        "lr = udf.corr(method='pearson', min_periods=1)\n",
        "lr"
      ],
      "execution_count": 114,
      "outputs": [
        {
          "output_type": "execute_result",
          "data": {
            "text/html": [
              "<div>\n",
              "<style scoped>\n",
              "    .dataframe tbody tr th:only-of-type {\n",
              "        vertical-align: middle;\n",
              "    }\n",
              "\n",
              "    .dataframe tbody tr th {\n",
              "        vertical-align: top;\n",
              "    }\n",
              "\n",
              "    .dataframe thead th {\n",
              "        text-align: right;\n",
              "    }\n",
              "</style>\n",
              "<table border=\"1\" class=\"dataframe\">\n",
              "  <thead>\n",
              "    <tr style=\"text-align: right;\">\n",
              "      <th></th>\n",
              "      <th>Confirmed Cases</th>\n",
              "      <th>Probable Cases</th>\n",
              "      <th>Fatalities</th>\n",
              "    </tr>\n",
              "  </thead>\n",
              "  <tbody>\n",
              "    <tr>\n",
              "      <th>Confirmed Cases</th>\n",
              "      <td>1.000000</td>\n",
              "      <td>-0.540895</td>\n",
              "      <td>0.204932</td>\n",
              "    </tr>\n",
              "    <tr>\n",
              "      <th>Probable Cases</th>\n",
              "      <td>-0.540895</td>\n",
              "      <td>1.000000</td>\n",
              "      <td>0.128538</td>\n",
              "    </tr>\n",
              "    <tr>\n",
              "      <th>Fatalities</th>\n",
              "      <td>0.204932</td>\n",
              "      <td>0.128538</td>\n",
              "      <td>1.000000</td>\n",
              "    </tr>\n",
              "  </tbody>\n",
              "</table>\n",
              "</div>"
            ],
            "text/plain": [
              "                 Confirmed Cases  Probable Cases  Fatalities\n",
              "Confirmed Cases         1.000000       -0.540895    0.204932\n",
              "Probable Cases         -0.540895        1.000000    0.128538\n",
              "Fatalities              0.204932        0.128538    1.000000"
            ]
          },
          "metadata": {},
          "execution_count": 114
        }
      ]
    },
    {
      "cell_type": "code",
      "metadata": {
        "colab": {
          "base_uri": "https://localhost:8080/",
          "height": 512
        },
        "id": "WRZE7BgSVicY",
        "outputId": "aa482b39-8097-4ca4-cadf-9106d7f5ca2d"
      },
      "source": [
        "from pandas.plotting import scatter_matrix\n",
        "\n",
        "scatter_matrix(udf, figsize = (14,8))\n",
        "plt.show()"
      ],
      "execution_count": 115,
      "outputs": [
        {
          "output_type": "display_data",
          "data": {
            "image/png": "[encoded data removed]",
            "text/plain": [
              "<Figure size 1008x576 with 9 Axes>"
            ]
          },
          "metadata": {
            "needs_background": "light"
          }
        }
      ]
    },
    {
      "cell_type": "code",
      "metadata": {
        "colab": {
          "base_uri": "https://localhost:8080/",
          "height": 517
        },
        "id": "wi-XGz8wZC7U",
        "outputId": "2b665a43-ea28-4301-df1d-c8250afe74ba"
      },
      "source": [
        "\n",
        "scatter_matrix(rdf, figsize = (14,8))\n",
        "plt.show()"
      ],
      "execution_count": 116,
      "outputs": [
        {
          "output_type": "display_data",
          "data": {
            "image/png": "[encoded data removed]",
            "text/plain": [
              "<Figure size 1008x576 with 9 Axes>"
            ]
          },
          "metadata": {
            "needs_background": "light"
          }
        }
      ]
    },
    {
      "cell_type": "code",
      "metadata": {
        "id": "Iy3jeIvzRqRF"
      },
      "source": [
        "from scipy.stats import linregress"
      ],
      "execution_count": 117,
      "outputs": []
    },
    {
      "cell_type": "code",
      "metadata": {
        "id": "L3Og04oHW9Kj"
      },
      "source": [
        "import scipy"
      ],
      "execution_count": 118,
      "outputs": []
    },
    {
      "cell_type": "code",
      "metadata": {
        "colab": {
          "base_uri": "https://localhost:8080/",
          "height": 370
        },
        "id": "eyGzqXqJbuWW",
        "outputId": "ad288db4-9729-43bc-a998-4fd960c3fd41"
      },
      "source": [
        "urban = udf\n",
        "rural = rdf\n",
        "#plot 1:\n",
        "fig = plt.figure(figsize=(10,5))\n",
        "plt.subplot(1, 2, 1)\n",
        "\n",
        "#plt.scatter(rdf[\"Confirmed Cases\"], rdf[\"Fatalities\"], label=f'rdf[\"Fatalities\"] Correlation = {np.round(np.corrcoef(rdf[\"Confirmed Cases\"], rdf[\"Fatalities\"])[0,1], 2)}')\n",
        "plt.scatter(udf[\"Confirmed Cases\"], udf[\"Fatalities\"], label=f'urban[\"Fatalities\"] Correlation = {np.round(np.corrcoef(udf[\"Confirmed Cases\"], udf[\"Fatalities\"])[0,1], 2)}')\n",
        "\n",
        "plt.xlabel(\"Confirmed Cases\")\n",
        "plt.ylabel(\"Fatalities\")\n",
        "plt.legend()\n",
        "plt.grid()\n",
        "#plot 2:\n",
        "plt.subplot(1, 2, 2)\n",
        "plt.scatter(rdf[\"Confirmed Cases\"], rdf[\"Fatalities\"], label=f'rural[\"Fatalities\"] Correlation = {np.round(np.corrcoef(rdf[\"Confirmed Cases\"], rdf[\"Fatalities\"])[0,1], 2)}')\n",
        "#plt.scatter(udf[\"Confirmed Cases\"], udf[\"Fatalities\"], label=f'udf[\"Fatalities\"] Correlation = {np.round(np.corrcoef(udf[\"Confirmed Cases\"], udf[\"Fatalities\"])[0,1], 2)}')\n",
        "plt.legend()\n",
        "plt.xlabel(\"Confirmed Cases\")\n",
        "#plt.ylabel(\"Calorie Burnage\")\n",
        "plt.grid()\n",
        "#fig.tight_layout()\n",
        "fig.suptitle('COVID Cases vs Fatalities of Urban and Rural counties',fontweight =\"bold\")\n",
        "#plt.savefig(\"TX_10_County_Covid_daily_update.png\", dpi=60)\n",
        "\n",
        "plt.show()"
      ],
      "execution_count": 119,
      "outputs": [
        {
          "output_type": "display_data",
          "data": {
            "image/png": "[encoded data removed]",
            "text/plain": [
              "<Figure size 720x360 with 2 Axes>"
            ]
          },
          "metadata": {
            "needs_background": "light"
          }
        }
      ]
    },
    {
      "cell_type": "code",
      "metadata": {
        "id": "yM-vY8Ihzgj1"
      },
      "source": [
        "#fig = plt.figure(figsize=(10,10))\n",
        "\n",
        "#plt.scatter(rdf[\"Confirmed Cases\"], rdf[\"Fatalities\"], label=f'rdf[\"Fatalities\"] Correlation = {np.round(np.corrcoef(rdf[\"Confirmed Cases\"], rdf[\"Fatalities\"])[0,1], 2)}')\n",
        "#plt.scatter(udf[\"Confirmed Cases\"], udf[\"Fatalities\"], label=f'udf[\"Fatalities\"] Correlation = {np.round(np.corrcoef(udf[\"Confirmed Cases\"], udf[\"Fatalities\"])[0,1], 2)}')\n",
        "#plt.grid()\n",
        "#plt.scatter(x, y2, label=f'y2 Correlation = {np.round(np.corrcoef(x,y2)[0,1], 2)}')\n",
        "#plt.scatter(x, y3, label=f'y3 Correlation = {np.round(np.corrcoef(x,y3)[0,1], 2)}')\n",
        "#plt.scatter(x, y3, label=f'y3 Correlation = {np.round(np.corrcoef(x,y3)[0,1], 2)}')\n",
        "#plt.show()"
      ],
      "execution_count": 120,
      "outputs": []
    },
    {
      "cell_type": "code",
      "metadata": {
        "id": "BJNGIXgJ5WUj"
      },
      "source": [
        "#udf.hist()"
      ],
      "execution_count": 121,
      "outputs": []
    },
    {
      "cell_type": "code",
      "metadata": {
        "id": "vhRYXRbM5wag"
      },
      "source": [
        "#rdf.hist()"
      ],
      "execution_count": 122,
      "outputs": []
    },
    {
      "cell_type": "code",
      "metadata": {
        "colab": {
          "base_uri": "https://localhost:8080/"
        },
        "id": "QjdzKhQGWUvr",
        "outputId": "76d4620b-5db7-4b41-d43b-83268f4f892c"
      },
      "source": [
        "from scipy.stats import wilcoxon,kruskal,friedmanchisquare,f_oneway,ttest_ind,chisquare\n",
        "#F, p = f_oneway(ps['A'],ps['B'],ps['C'],ps['D'])\n",
        "#s,p = f_oneway(udf['Fatalities'],rdf['Fatalities'])\n",
        "s,p = f_oneway(udd['Population'],udf['Fatalities'])\n",
        "s,p\n",
        "alpha = 0.05\n",
        "if p < alpha:\n",
        "\tprint('Different distributions (reject H0)')\n",
        "else:\n",
        "\tprint('Same distributions (fail to reject H0, so H0 is accepted)')\n",
        "s,p "
      ],
      "execution_count": 123,
      "outputs": [
        {
          "output_type": "stream",
          "name": "stdout",
          "text": [
            "Different distributions (reject H0)\n"
          ]
        },
        {
          "output_type": "execute_result",
          "data": {
            "text/plain": [
              "(17.080394466747677, 0.00010317321968493753)"
            ]
          },
          "metadata": {},
          "execution_count": 123
        }
      ]
    },
    {
      "cell_type": "code",
      "metadata": {
        "colab": {
          "base_uri": "https://localhost:8080/"
        },
        "id": "MHpVBuSAXO7y",
        "outputId": "dcb5b7bb-5ecd-44d8-d826-5727df2684c1"
      },
      "source": [
        "from scipy.stats import wilcoxon,kruskal,friedmanchisquare,f_oneway,ttest_ind,chisquare\n",
        "#F, p = f_oneway(ps['A'],ps['B'],ps['C'],ps['D'])\n",
        "#s,p = f_oneway(udf['Fatalities'],rdf['Fatalities'])\n",
        "s,p = f_oneway(rdd['Population'],rdf['Fatalities'])\n",
        "s,p\n",
        "alpha = 0.05\n",
        "if p < alpha:\n",
        "\tprint('Different distributions (reject H0)')\n",
        "else:\n",
        "\tprint('Same distributions (fail to reject H0, so H0 is accepted)')\n",
        "s,p "
      ],
      "execution_count": 124,
      "outputs": [
        {
          "output_type": "stream",
          "name": "stdout",
          "text": [
            "Different distributions (reject H0)\n"
          ]
        },
        {
          "output_type": "execute_result",
          "data": {
            "text/plain": [
              "(63.7244561827059, 1.268912549655039e-14)"
            ]
          },
          "metadata": {},
          "execution_count": 124
        }
      ]
    },
    {
      "cell_type": "code",
      "metadata": {
        "colab": {
          "base_uri": "https://localhost:8080/"
        },
        "id": "Blk_rUGR6JB3",
        "outputId": "24dfdf68-4fe0-4239-d7b5-50365c190ffe"
      },
      "source": [
        "from scipy.stats import wilcoxon,kruskal,friedmanchisquare,f_oneway,ttest_ind,chisquare\n",
        "#F, p = f_oneway(ps['A'],ps['B'],ps['C'],ps['D'])\n",
        "#s,p = f_oneway(udf['Fatalities'],rdf['Fatalities'])\n",
        "s,p = f_oneway(rdf['Fatalities'],udf['Fatalities'])\n",
        "s,p"
      ],
      "execution_count": 125,
      "outputs": [
        {
          "output_type": "execute_result",
          "data": {
            "text/plain": [
              "(2.5888609933000555, 0.10886971142085014)"
            ]
          },
          "metadata": {},
          "execution_count": 125
        }
      ]
    },
    {
      "cell_type": "code",
      "metadata": {
        "colab": {
          "base_uri": "https://localhost:8080/"
        },
        "id": "EScfvmrGQZoo",
        "outputId": "3a85aacf-0b08-43ab-ab3c-fe41fa76b8ee"
      },
      "source": [
        "alpha = 0.05\n",
        "if p < alpha:\n",
        "\tprint('Different distributions (reject H0)')\n",
        "else:\n",
        "\tprint('Same distributions (fail to reject H0, so H0 is accepted)')\n",
        "s,p "
      ],
      "execution_count": 126,
      "outputs": [
        {
          "output_type": "stream",
          "name": "stdout",
          "text": [
            "Same distributions (fail to reject H0, so H0 is accepted)\n"
          ]
        },
        {
          "output_type": "execute_result",
          "data": {
            "text/plain": [
              "(2.5888609933000555, 0.10886971142085014)"
            ]
          },
          "metadata": {},
          "execution_count": 126
        }
      ]
    },
    {
      "cell_type": "code",
      "metadata": {
        "colab": {
          "base_uri": "https://localhost:8080/"
        },
        "id": "0CO8PCiC7FO6",
        "outputId": "9f2a60a6-ce70-4a4e-ab40-6fe0e0412905"
      },
      "source": [
        "s,p = ttest_ind(udf['Fatalities'],rdf['Fatalities'])\n",
        "s,p"
      ],
      "execution_count": 127,
      "outputs": [
        {
          "output_type": "execute_result",
          "data": {
            "text/plain": [
              "(-1.6089937828655687, 0.10886971142084823)"
            ]
          },
          "metadata": {},
          "execution_count": 127
        }
      ]
    },
    {
      "cell_type": "code",
      "metadata": {
        "colab": {
          "base_uri": "https://localhost:8080/"
        },
        "id": "gaD16RHz7JzS",
        "outputId": "0aad2088-b070-4f1f-cdd3-aa0b76bcac7a"
      },
      "source": [
        "s,p = ttest_ind(udf['Confirmed Cases'],rdf['Confirmed Cases'])\n",
        "s,p"
      ],
      "execution_count": 128,
      "outputs": [
        {
          "output_type": "execute_result",
          "data": {
            "text/plain": [
              "(-0.07952580176268997, 0.9366775250818382)"
            ]
          },
          "metadata": {},
          "execution_count": 128
        }
      ]
    },
    {
      "cell_type": "code",
      "metadata": {
        "colab": {
          "base_uri": "https://localhost:8080/"
        },
        "id": "Ns5m-ujUCoq9",
        "outputId": "5ce76e7d-efc8-4541-c365-f3017d3520d5"
      },
      "source": [
        "s,p = ttest_ind(udf['Confirmed Cases'],udf['Fatalities'])\n",
        "s,p"
      ],
      "execution_count": 129,
      "outputs": [
        {
          "output_type": "execute_result",
          "data": {
            "text/plain": [
              "(20.33851447883351, 3.9440615451361135e-30)"
            ]
          },
          "metadata": {},
          "execution_count": 129
        }
      ]
    },
    {
      "cell_type": "code",
      "metadata": {
        "colab": {
          "base_uri": "https://localhost:8080/"
        },
        "id": "ZHfIfk66C3C9",
        "outputId": "1c7f12c2-d7ea-48bc-af05-72ad5b73071e"
      },
      "source": [
        "s,p = ttest_ind(rdf['Confirmed Cases'],rdf['Fatalities'])\n",
        "s,p"
      ],
      "execution_count": 130,
      "outputs": [
        {
          "output_type": "execute_result",
          "data": {
            "text/plain": [
              "(8.146703674503872, 3.944893229893534e-15)"
            ]
          },
          "metadata": {},
          "execution_count": 130
        }
      ]
    }
  ]
}